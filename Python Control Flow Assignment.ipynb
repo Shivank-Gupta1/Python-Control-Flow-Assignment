{
 "cells": [
  {
   "cell_type": "code",
   "execution_count": 1,
   "id": "4bc64241-5ec2-428d-babc-b9c83d745798",
   "metadata": {},
   "outputs": [],
   "source": [
    "###Basic If-else Statements:"
   ]
  },
  {
   "cell_type": "code",
   "execution_count": 2,
   "id": "87689cbc-80ff-42f1-b53c-1261a077f59f",
   "metadata": {},
   "outputs": [],
   "source": [
    "##1.Write a python program to check if a given number is positive or negative"
   ]
  },
  {
   "cell_type": "code",
   "execution_count": 35,
   "id": "c1f140de-4fcc-465b-82d8-ee18a9b13bf1",
   "metadata": {},
   "outputs": [
    {
     "name": "stdin",
     "output_type": "stream",
     "text": [
      "Enter a number 7\n"
     ]
    },
    {
     "name": "stdout",
     "output_type": "stream",
     "text": [
      "Number is Posivite\n"
     ]
    }
   ],
   "source": [
    "num=float(input(\"Enter a number\"))\n",
    "if num>0:\n",
    "    print(\"Number is Posivite\")\n",
    "if num<0:\n",
    "    print(\"Number is Negative\")"
   ]
  },
  {
   "cell_type": "code",
   "execution_count": null,
   "id": "ac58056d-7ead-4748-b40b-c93bc6c93e13",
   "metadata": {},
   "outputs": [],
   "source": [
    " "
   ]
  },
  {
   "cell_type": "code",
   "execution_count": 10,
   "id": "397146f2-7e18-4814-aada-45567ec400cd",
   "metadata": {},
   "outputs": [],
   "source": [
    "##2.Create a program that determines if a person is eligible to vote based on their age."
   ]
  },
  {
   "cell_type": "code",
   "execution_count": 12,
   "id": "8afd21c4-78c7-4e35-867b-926bf85f4390",
   "metadata": {},
   "outputs": [
    {
     "name": "stdin",
     "output_type": "stream",
     "text": [
      "Enter the age 17\n"
     ]
    },
    {
     "name": "stdout",
     "output_type": "stream",
     "text": [
      "Person is not Eligible to Vote\n"
     ]
    }
   ],
   "source": [
    "age=int(input(\"Enter the age\"))\n",
    "if age<18:\n",
    "    print(\"Person is not Eligible to Vote\")\n",
    "else:\n",
    "    print(\"Person is Eligible to Vote\")"
   ]
  },
  {
   "cell_type": "code",
   "execution_count": null,
   "id": "af5f2132-aa1d-4ad7-b0ef-270df6c312c2",
   "metadata": {},
   "outputs": [],
   "source": []
  },
  {
   "cell_type": "code",
   "execution_count": 13,
   "id": "b0d94064-fc4a-4b59-b082-3bf75b22205d",
   "metadata": {},
   "outputs": [],
   "source": [
    "##3.Develop a program to find the maximum of two numbers using if else statement."
   ]
  },
  {
   "cell_type": "code",
   "execution_count": 15,
   "id": "426f1688-75dd-4527-b88b-3e1738da4122",
   "metadata": {},
   "outputs": [
    {
     "name": "stdin",
     "output_type": "stream",
     "text": [
      "Enter the First Number 17\n",
      "Enter the Second Number 16.9\n"
     ]
    },
    {
     "name": "stdout",
     "output_type": "stream",
     "text": [
      "First Number is Maximum\n"
     ]
    }
   ],
   "source": [
    "first=float(input(\"Enter the First Number\"))\n",
    "second=float(input(\"Enter the Second Number\"))\n",
    "if first>second:\n",
    "    print(\"First Number is Maximum\")\n",
    "else:\n",
    "    print(\"Second Number is Maximum\")"
   ]
  },
  {
   "cell_type": "code",
   "execution_count": null,
   "id": "b9440391-b981-4d2b-8be5-e6a1698837f5",
   "metadata": {},
   "outputs": [],
   "source": []
  },
  {
   "cell_type": "code",
   "execution_count": 16,
   "id": "3d6101a4-8e36-4800-a6d4-a630ca628fac",
   "metadata": {},
   "outputs": [],
   "source": [
    "##4.Write a python script to classify a given year as a leap year or not."
   ]
  },
  {
   "cell_type": "code",
   "execution_count": 19,
   "id": "5b9f1a1b-10d9-4a86-be4b-7aafeaf205f4",
   "metadata": {},
   "outputs": [
    {
     "name": "stdin",
     "output_type": "stream",
     "text": [
      "Enter the Year 2001\n"
     ]
    },
    {
     "name": "stdout",
     "output_type": "stream",
     "text": [
      "Year is not a Leap Year\n"
     ]
    }
   ],
   "source": [
    "year=int(input(\"Enter the Year\"))\n",
    "if year%4==0:\n",
    "    print(\"Year is a Leap Year\")\n",
    "else:\n",
    "    print(\"Year is not a Leap Year\")"
   ]
  },
  {
   "cell_type": "code",
   "execution_count": null,
   "id": "1db45f66-ff43-4da5-83e7-0b92997cccd2",
   "metadata": {},
   "outputs": [],
   "source": []
  },
  {
   "cell_type": "code",
   "execution_count": 36,
   "id": "3552cf46-7ed3-4fd1-9b12-e93427420be6",
   "metadata": {},
   "outputs": [
    {
     "name": "stdin",
     "output_type": "stream",
     "text": [
      "Enter the Chracter s\n"
     ]
    },
    {
     "name": "stdout",
     "output_type": "stream",
     "text": [
      "Character is consonant\n"
     ]
    }
   ],
   "source": [
    "##5.Create a program that checks whether a character is vowel or consonant.\n",
    "char=str(input(\"Enter the Chracter\"))\n",
    "vowels=\"AEIOUaeiou\"\n",
    "if char in vowels:\n",
    "    print(\"Character is a Vowel\")\n",
    "else:\n",
    "    print(\"Character is consonant\")"
   ]
  },
  {
   "cell_type": "code",
   "execution_count": 27,
   "id": "b40a2bfe-484b-4569-a2a9-7c5b847b6bdc",
   "metadata": {},
   "outputs": [],
   "source": []
  },
  {
   "cell_type": "code",
   "execution_count": 28,
   "id": "3ca1e877-ad10-44e6-9097-94d4a45aabf5",
   "metadata": {},
   "outputs": [],
   "source": [
    "##6.Implement a program to determine whether given number is even or odd."
   ]
  },
  {
   "cell_type": "code",
   "execution_count": 29,
   "id": "c6e99d19-893f-42eb-84d7-8f2b01e54580",
   "metadata": {},
   "outputs": [
    {
     "name": "stdin",
     "output_type": "stream",
     "text": [
      "Enter the number 5\n"
     ]
    },
    {
     "name": "stdout",
     "output_type": "stream",
     "text": [
      "Number is Odd\n"
     ]
    }
   ],
   "source": [
    "number=int(input(\"Enter the number\"))\n",
    "if number%2==0:\n",
    "    print(\"Number is Even\")\n",
    "else:\n",
    "    print(\"Number is Odd\")"
   ]
  },
  {
   "cell_type": "code",
   "execution_count": null,
   "id": "22cf4dd2-89ec-4c07-aa23-cfb1bfc9e2d4",
   "metadata": {},
   "outputs": [],
   "source": []
  },
  {
   "cell_type": "code",
   "execution_count": 30,
   "id": "8b9ddb80-2f6a-45b6-a03e-30548bff185a",
   "metadata": {},
   "outputs": [],
   "source": [
    "##7.Write a python function to calculate the absolute value of a number without using abs() function"
   ]
  },
  {
   "cell_type": "code",
   "execution_count": 31,
   "id": "23bc4592-f000-4c94-a867-022cc1ab0a10",
   "metadata": {},
   "outputs": [],
   "source": [
    "def absolute(num):\n",
    "    if num>=0:\n",
    "        return num\n",
    "    else:\n",
    "        return -num"
   ]
  },
  {
   "cell_type": "code",
   "execution_count": 32,
   "id": "e3eb8b10-4d3e-43c5-bb44-e328b2e3ac93",
   "metadata": {},
   "outputs": [
    {
     "data": {
      "text/plain": [
       "20"
      ]
     },
     "execution_count": 32,
     "metadata": {},
     "output_type": "execute_result"
    }
   ],
   "source": [
    "absolute(-20)"
   ]
  },
  {
   "cell_type": "code",
   "execution_count": null,
   "id": "12bfeff5-7dcf-4ed6-84b5-e3baa4e344d5",
   "metadata": {},
   "outputs": [],
   "source": []
  },
  {
   "cell_type": "code",
   "execution_count": 33,
   "id": "81b2f3b3-9c6d-4014-b900-073a02539c0d",
   "metadata": {},
   "outputs": [],
   "source": [
    "###8.Develop a program that determines the largest of three given numbers using if else statement"
   ]
  },
  {
   "cell_type": "code",
   "execution_count": 42,
   "id": "155eb651-6573-4c9e-af96-33f808cc9fe4",
   "metadata": {},
   "outputs": [
    {
     "name": "stdin",
     "output_type": "stream",
     "text": [
      "Enter the First Number 8\n",
      "Enter the Second Number 6\n",
      "Enter the Third Number 1\n"
     ]
    },
    {
     "name": "stdout",
     "output_type": "stream",
     "text": [
      "First Number is Largest\n"
     ]
    }
   ],
   "source": [
    "first=float(input(\"Enter the First Number\"))\n",
    "second=float(input(\"Enter the Second Number\"))\n",
    "third=float(input(\"Enter the Third Number\"))\n",
    "if first>second and first>third:\n",
    "    print(\"First Number is Largest\")\n",
    "if second>third and second>first:\n",
    "    print(\"Second Number is Largest\")\n",
    "if third>second and third>first:\n",
    "    print(\"Third Number is Largest\")"
   ]
  },
  {
   "cell_type": "code",
   "execution_count": null,
   "id": "2a51efc5-1c1b-462f-af07-6ae2b4234056",
   "metadata": {},
   "outputs": [],
   "source": []
  },
  {
   "cell_type": "code",
   "execution_count": 38,
   "id": "b64e0a4c-f097-4fe6-8b4f-52d99d9d0d63",
   "metadata": {},
   "outputs": [],
   "source": [
    "##9.Create a program that checks if a given string is palindrome or not"
   ]
  },
  {
   "cell_type": "code",
   "execution_count": 45,
   "id": "c26b16c1-7510-4a32-a401-aec4c7d74704",
   "metadata": {},
   "outputs": [
    {
     "name": "stdin",
     "output_type": "stream",
     "text": [
      "Enter the String rooor\n"
     ]
    },
    {
     "name": "stdout",
     "output_type": "stream",
     "text": [
      "String is Palindrome\n"
     ]
    }
   ],
   "source": [
    "string=str(input(\"Enter the String\"))\n",
    "if string==string[::-1]:\n",
    "    print(\"String is Palindrome\")\n",
    "else:\n",
    "    print(\"String is not Palindrome\")"
   ]
  },
  {
   "cell_type": "code",
   "execution_count": null,
   "id": "4a8c204c-9bc3-41d1-981e-996846cba44f",
   "metadata": {},
   "outputs": [],
   "source": []
  },
  {
   "cell_type": "code",
   "execution_count": 46,
   "id": "4ba47dca-4d0c-4ead-966d-7567e2141cfc",
   "metadata": {},
   "outputs": [],
   "source": [
    "###10.Write a python program to calculate the grade based on a student's score"
   ]
  },
  {
   "cell_type": "code",
   "execution_count": 4,
   "id": "b08be1e0-317a-4552-b5f8-3172eae26808",
   "metadata": {},
   "outputs": [
    {
     "name": "stdin",
     "output_type": "stream",
     "text": [
      "Enter the score gained by Student 91\n"
     ]
    },
    {
     "name": "stdout",
     "output_type": "stream",
     "text": [
      "Grade is A+\n"
     ]
    }
   ],
   "source": [
    "score=int(input(\"Enter the score gained by Student\"))\n",
    "if score>33:\n",
    "    if score>90:\n",
    "        print(\"Grade is A+\")\n",
    "    if score>80 and score<=90:\n",
    "        print(\"Grade is A\")\n",
    "    if score>70 and score<=80:\n",
    "        print(\"Grade is B+\")\n",
    "    if score>60 and score<=70:\n",
    "        print(\"Grade is B\")\n",
    "    if score>50 and score<=60:\n",
    "        print(\"Grade is C\")\n",
    "    if score>40 and score<=50:\n",
    "        print(\"Grade is D\")\n",
    "    if score>=33 and score<=40:\n",
    "        print(\"Grade is E\")\n",
    "else:\n",
    "    print(\"Fail\")"
   ]
  },
  {
   "cell_type": "code",
   "execution_count": null,
   "id": "23cdf5c3-e476-4f2f-b057-959f65670b36",
   "metadata": {},
   "outputs": [],
   "source": []
  },
  {
   "cell_type": "code",
   "execution_count": 51,
   "id": "7072444c-de5d-4816-90fe-49cdfaa75e8f",
   "metadata": {},
   "outputs": [],
   "source": [
    "##Nested IF ELSE Statements:"
   ]
  },
  {
   "cell_type": "code",
   "execution_count": 52,
   "id": "32a2f730-0be3-47af-bb9c-89f20a2f16d2",
   "metadata": {},
   "outputs": [],
   "source": [
    "##11.Write a program to find the largest among three numbers using nested if-else."
   ]
  },
  {
   "cell_type": "code",
   "execution_count": 55,
   "id": "576e2285-caeb-4b98-8206-9b8693328e5c",
   "metadata": {},
   "outputs": [
    {
     "name": "stdin",
     "output_type": "stream",
     "text": [
      "Enter the First Number 5\n",
      "Enter the Second Number 5\n",
      "Enter the Third Number 5\n"
     ]
    },
    {
     "name": "stdout",
     "output_type": "stream",
     "text": [
      "Largest Number is :  5.0\n"
     ]
    }
   ],
   "source": [
    "first=float(input(\"Enter the First Number\"))\n",
    "second=float(input(\"Enter the Second Number\"))\n",
    "third=float(input(\"Enter the Third Number\"))\n",
    "if first>second:\n",
    "    if first>third:\n",
    "        x=first\n",
    "    else:\n",
    "        x=third\n",
    "else:\n",
    "    if second>third:\n",
    "        x=second\n",
    "    else:\n",
    "        x=third\n",
    "print(\"Largest Number is : \",x)    "
   ]
  },
  {
   "cell_type": "code",
   "execution_count": null,
   "id": "257f90d5-2984-4dd0-b36f-daf5b8909e15",
   "metadata": {},
   "outputs": [],
   "source": []
  },
  {
   "cell_type": "code",
   "execution_count": 56,
   "id": "146dea90-3a52-4b51-8a6a-0e81457c1da3",
   "metadata": {},
   "outputs": [],
   "source": [
    "###12.Implement a program to determine if a triangle is equilateral,isosceles or scalene"
   ]
  },
  {
   "cell_type": "code",
   "execution_count": 43,
   "id": "f2170428-b134-4254-9c1b-92c5ba982286",
   "metadata": {},
   "outputs": [
    {
     "name": "stdin",
     "output_type": "stream",
     "text": [
      "Enter the First Side 5\n",
      "Enter the Second Side 5\n",
      "Enter the Third Side 5\n"
     ]
    },
    {
     "name": "stdout",
     "output_type": "stream",
     "text": [
      "Triangle is Equilateral\n"
     ]
    }
   ],
   "source": [
    "first=float(input(\"Enter the First Side\"))\n",
    "second=float(input(\"Enter the Second Side\"))\n",
    "third=float(input(\"Enter the Third Side\"))\n",
    "if first==second and first==third:\n",
    "    print(\"Triangle is Equilateral\")\n",
    "elif first==second or second==third or third==first:\n",
    "    print(\"Triangle is Isosceles Triangle\")\n",
    "else:\n",
    "    print(\"Triangle is Scalene Triangle\")"
   ]
  },
  {
   "cell_type": "code",
   "execution_count": null,
   "id": "8526fef9-f76f-4d5c-b87c-fa1c8d9ada99",
   "metadata": {},
   "outputs": [],
   "source": []
  },
  {
   "cell_type": "code",
   "execution_count": 27,
   "id": "2594d8bb-cd57-4b34-a83c-cea7c66b4be1",
   "metadata": {},
   "outputs": [],
   "source": [
    "###13.Develop a program that checks if a year is leap year  and also if it is a century year."
   ]
  },
  {
   "cell_type": "code",
   "execution_count": 36,
   "id": "ac7f763f-3827-4d35-b77e-93c6c39a782d",
   "metadata": {},
   "outputs": [
    {
     "name": "stdin",
     "output_type": "stream",
     "text": [
      "Enter the Year 2024\n"
     ]
    },
    {
     "name": "stdout",
     "output_type": "stream",
     "text": [
      "Year is a Leap Year but not a Century Leap Year\n"
     ]
    }
   ],
   "source": [
    "year=int(input(\"Enter the Year\"))\n",
    "if year%4==0:\n",
    "    if year%400==0:\n",
    "        print(\"Year is a Leap Century Year\")\n",
    "    else:\n",
    "        print(\"Year is a Leap Year but not a Century Leap Year\")\n",
    "else:\n",
    "    print(\"Year is neither Leap Year nor a Leap Year\")"
   ]
  },
  {
   "cell_type": "code",
   "execution_count": null,
   "id": "bf408642-3ae3-46e4-a12f-2e4e5af01a70",
   "metadata": {},
   "outputs": [],
   "source": []
  },
  {
   "cell_type": "code",
   "execution_count": 37,
   "id": "96bc73c2-9faa-476a-a5ec-9491161bd5cb",
   "metadata": {},
   "outputs": [],
   "source": [
    "###14.Write a python scipt to determine if a number is positive , negative or zero."
   ]
  },
  {
   "cell_type": "code",
   "execution_count": 41,
   "id": "0377a84e-147b-40e0-924f-436cf0531c42",
   "metadata": {},
   "outputs": [
    {
     "name": "stdin",
     "output_type": "stream",
     "text": [
      "Input a number:  1.2\n"
     ]
    },
    {
     "name": "stdout",
     "output_type": "stream",
     "text": [
      "Number is Positive number.\n"
     ]
    }
   ],
   "source": [
    "n = float(input(\"Input a number: \"))\n",
    "if n >= 0:\n",
    "    if n == 0:\n",
    "        print(\"It is Zero!\")\n",
    "    else:\n",
    "        print(\"Number is Positive number.\")\n",
    "else:\n",
    "    print(\"Number is Negative number.\")"
   ]
  },
  {
   "cell_type": "code",
   "execution_count": null,
   "id": "53df7983-c27a-4c5e-91d6-a61f994a07bb",
   "metadata": {},
   "outputs": [],
   "source": []
  },
  {
   "cell_type": "code",
   "execution_count": 42,
   "id": "933ac86a-682d-43ad-8979-4b0e3c1097cb",
   "metadata": {},
   "outputs": [],
   "source": [
    "###15.Create a program to chekc if a person is a teenager(between 13 & 19 Years)."
   ]
  },
  {
   "cell_type": "code",
   "execution_count": 60,
   "id": "c9382fe3-76ee-4c80-a7cd-ae15d1208795",
   "metadata": {},
   "outputs": [
    {
     "name": "stdin",
     "output_type": "stream",
     "text": [
      "Enter the age 53\n"
     ]
    },
    {
     "name": "stdout",
     "output_type": "stream",
     "text": [
      "Person is not a teenager\n"
     ]
    }
   ],
   "source": [
    "age=int(input(\"Enter the age\"))\n",
    "if age>=13:\n",
    "    if age<=19:\n",
    "        print(\"Person is a teenager\")\n",
    "    else:\n",
    "        print(\"Person is not a teenager\")\n",
    "elif age==0:\n",
    "    print(\"Not a valid age\")\n",
    "else:\n",
    "    print(\"Person is not a teenager\")"
   ]
  },
  {
   "cell_type": "code",
   "execution_count": null,
   "id": "a0e64818-a754-4671-ad75-d9a4d422f1e8",
   "metadata": {},
   "outputs": [],
   "source": []
  },
  {
   "cell_type": "code",
   "execution_count": 61,
   "id": "4ea84a82-1a8c-4ab9-8926-00ce528b7dd5",
   "metadata": {},
   "outputs": [],
   "source": [
    "###16.Develop a program that determines the type of angle based on its measure(acute,obtuse, or right)."
   ]
  },
  {
   "cell_type": "code",
   "execution_count": 11,
   "id": "67749bf6-dd37-40ad-a07e-220f20c1cc23",
   "metadata": {},
   "outputs": [
    {
     "name": "stdin",
     "output_type": "stream",
     "text": [
      "Enter the First Angle 60\n",
      "Enter the Second Angle 60\n",
      "Enter the Third Angle 60\n"
     ]
    },
    {
     "name": "stdout",
     "output_type": "stream",
     "text": [
      "Acute Angled Triangle\n",
      "Obtuse Angled Triangle\n"
     ]
    }
   ],
   "source": [
    "first=float(input(\"Enter the First Angle\"))\n",
    "second=float(input(\"Enter the Second Angle\"))\n",
    "third=float(input(\"Enter the Third Angle\"))\n",
    "angle_sum=first+second+third\n",
    "if (angle_sum==180 and first>0 and second>0 and third>0):\n",
    "    if first<90 and second<90 and third<90:\n",
    "        print(\"Acute Angled Triangle\")\n",
    "    elif (first==90 or second==90 or third==90):\n",
    "        print(\"Right Angled Triangle\")\n",
    "    else:\n",
    "        print(\"Obtuse Angled Triangle\")\n",
    "else:\n",
    "    print(\"Triangle is not possible\")"
   ]
  },
  {
   "cell_type": "code",
   "execution_count": null,
   "id": "58e8445a-82ca-45a5-82a9-24710c7d9cdf",
   "metadata": {},
   "outputs": [],
   "source": []
  },
  {
   "cell_type": "code",
   "execution_count": 68,
   "id": "1c476d01-1296-4130-b788-d0aa75f9f4e3",
   "metadata": {},
   "outputs": [],
   "source": [
    "##17.Write a python program to calculate the roots of a quadratic equation."
   ]
  },
  {
   "cell_type": "code",
   "execution_count": 9,
   "id": "3b400f1e-9542-4789-9900-e99bfb512a3b",
   "metadata": {},
   "outputs": [
    {
     "name": "stdin",
     "output_type": "stream",
     "text": [
      "Enter the coefficient of x^2:  9\n",
      "Enter the coefficient of x:  5\n",
      "Enter the constant term:  3\n"
     ]
    },
    {
     "name": "stdout",
     "output_type": "stream",
     "text": [
      "Roots are complex: (-0.2777777777777778+0.5061351988413499j), (-0.2777777777777778-0.5061351988413499j)\n"
     ]
    }
   ],
   "source": [
    "import math\n",
    "\n",
    "def quadratic(a, b, c):\n",
    "    d = b**2 - 4*a*c\n",
    "    if d > 0:\n",
    "        root1 = (-b + math.sqrt(d)) / (2*a)\n",
    "        root2 = (-b - math.sqrt(d)) / (2*a)\n",
    "        return f\"Roots are real and distinct: {root1}, {root2}\"\n",
    "    elif d == 0:\n",
    "        root = -b / (2*a)\n",
    "        return f\"Roots are real and equal: {root}\"\n",
    "    else:\n",
    "        real_part = -b / (2*a)\n",
    "        imaginary_part = math.sqrt(abs(d)) / (2*a)\n",
    "        root1 = complex(real_part, imaginary_part)\n",
    "        root2 = complex(real_part, -imaginary_part)\n",
    "        return f\"Roots are complex: {root1}, {root2}\"\n",
    "\n",
    "a_coefficient = float(input(\"Enter the coefficient of x^2: \"))\n",
    "b_coefficient = float(input(\"Enter the coefficient of x: \"))\n",
    "c_coefficient = float(input(\"Enter the constant term: \"))\n",
    "\n",
    "result = quadratic(a_coefficient, b_coefficient, c_coefficient)\n",
    "print(result)\n"
   ]
  },
  {
   "cell_type": "code",
   "execution_count": null,
   "id": "e6637614-65e5-4791-8aab-41131f9f77de",
   "metadata": {},
   "outputs": [],
   "source": []
  },
  {
   "cell_type": "code",
   "execution_count": 14,
   "id": "f7c50d41-c463-4178-9f6d-1817f28a210c",
   "metadata": {},
   "outputs": [],
   "source": [
    "###18.Implement a program to determine the day of the week based on a user provided number."
   ]
  },
  {
   "cell_type": "code",
   "execution_count": 22,
   "id": "987f66a9-6387-43de-a8cd-a56af2aba132",
   "metadata": {},
   "outputs": [
    {
     "name": "stdin",
     "output_type": "stream",
     "text": [
      "Enter the number 5\n"
     ]
    },
    {
     "name": "stdout",
     "output_type": "stream",
     "text": [
      "Friday\n"
     ]
    }
   ],
   "source": [
    "number=int(input(\"Enter the number\"))\n",
    "if number>=0:\n",
    "    if number==1:\n",
    "        print(\"Monday\")\n",
    "    if number==2:\n",
    "        print(\"Tuesday\")\n",
    "    if number==3:\n",
    "        print(\"Wednesday\")\n",
    "    if number==4:\n",
    "        print(\"Thursday\")\n",
    "    if number==5:\n",
    "        print(\"Friday\")\n",
    "    if number==6:\n",
    "        print(\"Saturday\")\n",
    "    if number==7:\n",
    "        print(\"Sunday\")\n",
    "    if number==0:\n",
    "        print(\"Please input correct number\")\n",
    "        \n",
    "else:\n",
    "    print(\"Please input correct number\")"
   ]
  },
  {
   "cell_type": "code",
   "execution_count": null,
   "id": "fe8d61c8-b81d-406c-a95c-80afe13cab3e",
   "metadata": {},
   "outputs": [],
   "source": []
  },
  {
   "cell_type": "code",
   "execution_count": 9,
   "id": "d74a1f7e-d7e0-498f-801a-852ff603ed6c",
   "metadata": {},
   "outputs": [],
   "source": [
    "##19.Create a program that determines if a year is a leap year and also if it is evenly divisible by 400."
   ]
  },
  {
   "cell_type": "code",
   "execution_count": 11,
   "id": "89511349-7e00-4a90-bf7e-f1af5ca72414",
   "metadata": {},
   "outputs": [
    {
     "name": "stdin",
     "output_type": "stream",
     "text": [
      "Enter the Year 2300\n"
     ]
    },
    {
     "name": "stdout",
     "output_type": "stream",
     "text": [
      "Year is a Leap Year but not divisible by 400\n"
     ]
    }
   ],
   "source": [
    "year=int(input(\"Enter the Year\"))\n",
    "if year%4==0:\n",
    "    if year%400==0:\n",
    "        print(\"Year is a Leap Year & evenly divisible by 400\")\n",
    "    else:\n",
    "        print(\"Year is a Leap Year but not divisible by 400\")\n",
    "else:\n",
    "    print(\"Year is not a leap year\")"
   ]
  },
  {
   "cell_type": "code",
   "execution_count": null,
   "id": "7919e88a-e547-449d-a22b-d52eda7b9ab0",
   "metadata": {},
   "outputs": [],
   "source": []
  },
  {
   "cell_type": "code",
   "execution_count": 23,
   "id": "8aa3891d-6aae-48d7-a1de-9e20ee63ebf5",
   "metadata": {},
   "outputs": [],
   "source": [
    "###20.Develop a program that checks if a given number is prime or not using nested if else statements."
   ]
  },
  {
   "cell_type": "code",
   "execution_count": 2,
   "id": "bd08096f-194d-4a98-bf9a-8873fa21e4b5",
   "metadata": {},
   "outputs": [
    {
     "name": "stdin",
     "output_type": "stream",
     "text": [
      "Enter the Number 18\n"
     ]
    },
    {
     "name": "stdout",
     "output_type": "stream",
     "text": [
      "18 is not a prime number\n"
     ]
    }
   ],
   "source": [
    "number=int(input(\"Enter the Number\"))\n",
    "if number > 1:\n",
    "    for i in range(2, number):\n",
    "        if (number % i) == 0:\n",
    "            print(number, \"is not a prime number\")\n",
    "            break\n",
    "    else:\n",
    "        print(number, \"is a prime number\")\n",
    "else:\n",
    "    print(number, \"is not a prime number\")"
   ]
  },
  {
   "cell_type": "code",
   "execution_count": null,
   "id": "08a5bdbd-15ef-4905-b0fa-04df6adb72e6",
   "metadata": {},
   "outputs": [],
   "source": []
  },
  {
   "cell_type": "code",
   "execution_count": null,
   "id": "7d5fad86-cc40-4576-9fb5-f82640afd2dc",
   "metadata": {},
   "outputs": [],
   "source": []
  },
  {
   "cell_type": "code",
   "execution_count": 33,
   "id": "6ebc4f80-7147-4634-b064-c801627fa764",
   "metadata": {},
   "outputs": [],
   "source": [
    "###Elif Statements"
   ]
  },
  {
   "cell_type": "code",
   "execution_count": 6,
   "id": "5e838190-2030-4979-8cd2-cc5b2d2abcad",
   "metadata": {},
   "outputs": [],
   "source": [
    "##21.Write a python program to assign grades based on different ranges of scores using elif statements."
   ]
  },
  {
   "cell_type": "code",
   "execution_count": 36,
   "id": "c3c70db6-12aa-4425-b5e4-1c6170931405",
   "metadata": {},
   "outputs": [
    {
     "name": "stdin",
     "output_type": "stream",
     "text": [
      "Enter the score gained by Student 78\n"
     ]
    },
    {
     "name": "stdout",
     "output_type": "stream",
     "text": [
      "Grade is B+\n"
     ]
    }
   ],
   "source": [
    "score=int(input(\"Enter the score gained by Student\"))\n",
    "if score>90:\n",
    "    print(\"Grade is A+\")\n",
    "elif score>80 and score<=90:\n",
    "    print(\"Grade is A\")\n",
    "elif score>70 and score<=80:\n",
    "    print(\"Grade is B+\")\n",
    "elif score>60 and score<=70:\n",
    "    print(\"Grade is B\")\n",
    "elif score>50 and score<=60:\n",
    "    print(\"Grade is C\")\n",
    "elif score>40 and score<=50:\n",
    "    print(\"Grade is D\")\n",
    "elif score>=33 and score<=40:\n",
    "    print(\"Grade is E\")\n",
    "else:\n",
    "    print(\"Fail\")"
   ]
  },
  {
   "cell_type": "code",
   "execution_count": null,
   "id": "07861ba5-3fd2-4203-aff8-daa25a0bf2bb",
   "metadata": {},
   "outputs": [],
   "source": []
  },
  {
   "cell_type": "code",
   "execution_count": 8,
   "id": "3382c7cb-a4d0-4e87-9e2d-2355a8271f63",
   "metadata": {},
   "outputs": [],
   "source": [
    "##22.Implement a program to determine the type of a triangle based on it's angles."
   ]
  },
  {
   "cell_type": "code",
   "execution_count": 12,
   "id": "4941ba49-184b-4962-8d99-3b3573c899f4",
   "metadata": {},
   "outputs": [
    {
     "name": "stdin",
     "output_type": "stream",
     "text": [
      "Enter the First Angle 50\n",
      "Enter the Second Angle 50\n",
      "Enter the Third Angle 80\n"
     ]
    },
    {
     "name": "stdout",
     "output_type": "stream",
     "text": [
      "Acute Angled Triangle\n"
     ]
    }
   ],
   "source": [
    "first=float(input(\"Enter the First Angle\"))\n",
    "second=float(input(\"Enter the Second Angle\"))\n",
    "third=float(input(\"Enter the Third Angle\"))\n",
    "angle_sum=first+second+third\n",
    "if (angle_sum==180 and first>0 and second>0 and third>0):\n",
    "    if first<90 and second<90 and third<90:\n",
    "        print(\"Acute Angled Triangle\")\n",
    "    elif (first==90 or second==90 or third==90):\n",
    "        print(\"Right Angled Triangle\")\n",
    "    else:\n",
    "        print(\"Obtuse Angled Triangle\")\n",
    "else:\n",
    "    print(\"Triangle is not possible\")"
   ]
  },
  {
   "cell_type": "code",
   "execution_count": null,
   "id": "e41daa20-cd20-45ed-86b8-3334837ffa17",
   "metadata": {},
   "outputs": [],
   "source": []
  },
  {
   "cell_type": "code",
   "execution_count": 13,
   "id": "c435be58-95f7-494e-a022-a20e6905a40c",
   "metadata": {},
   "outputs": [],
   "source": [
    "##23.Develop a program to categorize a given person's BMI into underweight,normal,overweight or obese using elif."
   ]
  },
  {
   "cell_type": "code",
   "execution_count": 23,
   "id": "fd263b12-8113-4799-a61e-dc9f46bde35d",
   "metadata": {},
   "outputs": [
    {
     "name": "stdin",
     "output_type": "stream",
     "text": [
      "Enter the weight in kg 67\n",
      "Enter the height in meters 1.7\n"
     ]
    },
    {
     "name": "stdout",
     "output_type": "stream",
     "text": [
      "Normal\n"
     ]
    }
   ],
   "source": [
    "weight = float(input(\"Enter the weight in kg\"));\n",
    "height = float(input(\"Enter the height in meters\"));\n",
    "bmi= float(weight)/(height)**2\n",
    "if bmi<18.5:\n",
    "    print(\"Underweight\")\n",
    "elif bmi>=18.5 and bmi<25:\n",
    "    print(\"Normal\")\n",
    "elif bmi>=25 and bmi<30:\n",
    "    print(\"Overweight\")\n",
    "else:\n",
    "    print(\"Obesity\")"
   ]
  },
  {
   "cell_type": "code",
   "execution_count": null,
   "id": "f72f57c5-76d2-4060-a71b-50b4787e8c6b",
   "metadata": {},
   "outputs": [],
   "source": []
  },
  {
   "cell_type": "code",
   "execution_count": 24,
   "id": "2e3c515f-d898-443b-926f-b2ecb12cca47",
   "metadata": {},
   "outputs": [],
   "source": [
    "###24.Create a program that determines whether a given number is positive, negative or zero using elif statements."
   ]
  },
  {
   "cell_type": "code",
   "execution_count": 27,
   "id": "baf12be2-f864-48f2-8e7b-f7e5ddb8cf2b",
   "metadata": {},
   "outputs": [
    {
     "name": "stdin",
     "output_type": "stream",
     "text": [
      "Enter the Number 1.3\n"
     ]
    },
    {
     "name": "stdout",
     "output_type": "stream",
     "text": [
      "Number is Positive\n"
     ]
    }
   ],
   "source": [
    "number=float(input(\"Enter the Number\"))\n",
    "if number==0:\n",
    "    print(\"Number is Zero\")\n",
    "elif number>0:\n",
    "    print(\"Number is Positive\")\n",
    "else:\n",
    "    print(\"Number is Negative\")"
   ]
  },
  {
   "cell_type": "code",
   "execution_count": null,
   "id": "121372f0-7977-4464-9e72-76816ed7f8b6",
   "metadata": {},
   "outputs": [],
   "source": []
  },
  {
   "cell_type": "code",
   "execution_count": 43,
   "id": "d2dab9a7-82c8-4ac2-8a0a-ddae8ac5e452",
   "metadata": {},
   "outputs": [],
   "source": [
    "###25.Write a python script to determine the type of a character(uppercase,lowercase or special) using elif statements."
   ]
  },
  {
   "cell_type": "code",
   "execution_count": 53,
   "id": "0bc09985-a6a4-48d5-b3fe-fa1ccf4211e2",
   "metadata": {},
   "outputs": [
    {
     "name": "stdin",
     "output_type": "stream",
     "text": [
      "Enter the character $\n"
     ]
    },
    {
     "name": "stdout",
     "output_type": "stream",
     "text": [
      "Character is Special\n"
     ]
    }
   ],
   "source": [
    "char=str(input(\"Enter the character\"))\n",
    "if str.isupper(char)==True:\n",
    "    print(\"Character in Uppercase\")\n",
    "elif str.islower(char)==True:\n",
    "    print(\"Character in Lowercase\")\n",
    "else:\n",
    "    print(\"Character is Special\")"
   ]
  },
  {
   "cell_type": "code",
   "execution_count": 49,
   "id": "17750d9d-9194-4f45-80cb-cbf3670a0b17",
   "metadata": {},
   "outputs": [],
   "source": []
  },
  {
   "cell_type": "code",
   "execution_count": 54,
   "id": "8ad9d9b4-dc0e-42c6-92eb-ba492f39ec2c",
   "metadata": {},
   "outputs": [],
   "source": [
    "####26.Implement a program to calculate the dicounted price based on different purchase amounts using elif statements."
   ]
  },
  {
   "cell_type": "code",
   "execution_count": 69,
   "id": "18a6f428-c328-46fb-a309-355ff225c3c8",
   "metadata": {},
   "outputs": [
    {
     "name": "stdin",
     "output_type": "stream",
     "text": [
      "Enter the Purchase Amount 6600\n"
     ]
    },
    {
     "name": "stdout",
     "output_type": "stream",
     "text": [
      "In puchase of more than 4999, 20% Discount is Given :  5280.0\n"
     ]
    }
   ],
   "source": [
    "purchase_amount=float(input(\"Enter the Purchase Amount\"))\n",
    "if purchase_amount>=2000 and purchase_amount<=4999:\n",
    "    discounted_price=purchase_amount - (purchase_amount*10)/100\n",
    "    print(\"In puchase of more than 1999, 10% Discount is Given : \",discounted_price)\n",
    "elif purchase_amount>=5000 and purchase_amount<=9999:\n",
    "    discounted_price=purchase_amount - (purchase_amount*20)/100\n",
    "    print(\"In puchase of more than 4999, 20% Discount is Given : \",discounted_price)\n",
    "elif purchase_amount>=10000:\n",
    "    discounted_price=purchase_amount - (purchase_amount*35)/100\n",
    "    print(\"In puchase of more than 9999, 35% Discount is Given : \",discounted_price)\n",
    "else:\n",
    "    print(\"No offer is available\")"
   ]
  },
  {
   "cell_type": "code",
   "execution_count": null,
   "id": "92d46a4c-4841-45da-8368-fdc2bd64c478",
   "metadata": {},
   "outputs": [],
   "source": []
  },
  {
   "cell_type": "code",
   "execution_count": 67,
   "id": "88f9bd56-a25e-4394-872f-e85a24de2f20",
   "metadata": {},
   "outputs": [],
   "source": [
    "##27.Develop a program to calculate the electricity bill based on different consumption slabs using elif statements."
   ]
  },
  {
   "cell_type": "code",
   "execution_count": 13,
   "id": "73e85ed9-eb08-48b6-a6a8-f59eb3568378",
   "metadata": {},
   "outputs": [
    {
     "name": "stdin",
     "output_type": "stream",
     "text": [
      "Enter the Units 2800\n"
     ]
    },
    {
     "name": "stdout",
     "output_type": "stream",
     "text": [
      "Your Electricity Bill is :  30500\n"
     ]
    }
   ],
   "source": [
    "bill_unit=int(input(\"Enter the Units\"))\n",
    "if bill_unit<200 and bill_unit<1000 : ####In case of more than 200 and less than 1000 Unit consumption 6 Rs/Unit is Charged\n",
    "    bill_amount=(bill_unit*6)\n",
    "    print(\"Your Electricity Bill is : \",bill_amount)\n",
    "elif bill_unit>=1000 and bill_unit<1500 : ##In case of more than 1000 and less than 1500 Unit consumption 8Rs/Unit is Charged till 1000 then 10 Rs per unit\n",
    "    bill_amount=((bill_unit-1000)*10)+(1000*8)\n",
    "    print(\"Your Electricity Bill is : \",bill_amount)\n",
    "elif bill_unit>=1500 and bill_unit<2000: ##In case of more than 1500 and less than 2000 Unit consumption 8Rs/Unit is Charged till 1000 then 10Rs/unit till 1500 then 12Rs/unit\n",
    "    bill_amount=((bill_unit-1500)*12)+(500*10)+(1000*8)\n",
    "    print(\"Your Electricity Bill is : \",bill_amount)\n",
    "elif bill_unit>=2000 and bill_unit<2500:##In case of more than 2000 and less than 2500 Unit consumption 8Rs/Unit is Charged till 1000 then 10Rs/unit till 1500 then 12Rs/unit till 2000 then 14Rs/unit\n",
    "    bill_amount=((bill_unit-2000)*14)+(500*12)+(500*10)+(1000*8)\n",
    "    print(\"Your Electricity Bill is : \",bill_amount)\n",
    "else:###in case of more than 2500 Unit\n",
    "    bill_amount=((bill_unit-2500)*15)+(500*14)+(500*12)+(500*10)+(1000*8)\n",
    "    print(\"Your Electricity Bill is : \",bill_amount)"
   ]
  },
  {
   "cell_type": "code",
   "execution_count": null,
   "id": "88af0b77-d37c-4b4d-b045-be0d1cb7ed20",
   "metadata": {},
   "outputs": [],
   "source": []
  },
  {
   "cell_type": "code",
   "execution_count": 15,
   "id": "16f96351-7fe6-4f3a-8be4-7ae1f0bf276e",
   "metadata": {},
   "outputs": [],
   "source": [
    "##28.Create a program to determine the type of quadrilateral based on its angles and sides using elif statements"
   ]
  },
  {
   "cell_type": "code",
   "execution_count": 7,
   "id": "2316c806-da3a-4f5b-a1ec-d6d7a7a84327",
   "metadata": {},
   "outputs": [
    {
     "name": "stdin",
     "output_type": "stream",
     "text": [
      "Enter the first angle:  50\n",
      "Enter the second angle:  40\n",
      "Enter the third angle:  90\n",
      "Enter the fourth angle:  120\n"
     ]
    },
    {
     "name": "stdout",
     "output_type": "stream",
     "text": [
      "It's a general quadrilateral.\n"
     ]
    }
   ],
   "source": [
    "def quadrilateral(a, b, c, d):\n",
    "    if 0 < a < 180 and 0 < b < 180 and 0 < c < 180 and 0 < d < 180:\n",
    "        if a == b == c == d:\n",
    "            return \"It's a square.\"\n",
    "        elif a == c and b == d:\n",
    "            return \"It's a rectangle.\"\n",
    "        elif a == b == c or b == c == d or c == d == a or d == a == b:\n",
    "            return \"It's a kite.\"\n",
    "        elif a == c and b == d and a != b:\n",
    "            return \"It's a parallelogram.\"\n",
    "        else:\n",
    "            return \"It's a general quadrilateral.\"\n",
    "    else:\n",
    "        return \"Invalid angles for a convex quadrilateral.\"\n",
    "    \n",
    "angle1 = float(input(\"Enter the first angle: \"))\n",
    "angle2 = float(input(\"Enter the second angle: \"))\n",
    "angle3 = float(input(\"Enter the third angle: \"))\n",
    "angle4 = float(input(\"Enter the fourth angle: \"))\n",
    "\n",
    "result = quadrilateral(angle1, angle2, angle3, angle4)\n",
    "print(result)\n"
   ]
  },
  {
   "cell_type": "code",
   "execution_count": 1,
   "id": "47e562ae-700f-43e3-a034-782fb701ffb5",
   "metadata": {},
   "outputs": [],
   "source": [
    "###29.Write a python script to determine the season based on user provided month using elif statements."
   ]
  },
  {
   "cell_type": "code",
   "execution_count": 17,
   "id": "8902bae9-7326-48f1-97f5-ca79f23491d6",
   "metadata": {},
   "outputs": [
    {
     "name": "stdin",
     "output_type": "stream",
     "text": [
      "Input the month (e.g. January, February etc.):  Shivank\n"
     ]
    },
    {
     "name": "stdout",
     "output_type": "stream",
     "text": [
      "Enter Valid Month\n"
     ]
    }
   ],
   "source": [
    "month = str(input(\"Input the month (e.g. January, February etc.): \"))\n",
    "if month in ('January', 'February', 'March'):\n",
    "    season = 'Winter'\n",
    "    print(\"Season is : \",season)\n",
    "elif month in ('April', 'May', 'June'):\n",
    "    season = 'Summer'\n",
    "    print(\"Season is : \",season)\n",
    "elif month in ('July', 'August', 'September'):\n",
    "    season = 'Spring'Shivank\n",
    "    print(\"Season is : \",season)\n",
    "elif month in ('October','November','December'):\n",
    "    season = 'Autumn'\n",
    "    print(\"Season is : \",season)\n",
    "else:\n",
    "    print(\"Enter Valid Month\")"
   ]
  },
  {
   "cell_type": "code",
   "execution_count": null,
   "id": "61a17fc6-a333-4f99-bc26-5fb16493b3ed",
   "metadata": {},
   "outputs": [],
   "source": []
  },
  {
   "cell_type": "code",
   "execution_count": 18,
   "id": "d76f0da5-14a8-4d8f-8bf2-d6fe9b6f35a0",
   "metadata": {},
   "outputs": [],
   "source": [
    "##30.Implement a program to determine the type of a year (leap or common) and month using (30 or 31 days) using elif statements."
   ]
  },
  {
   "cell_type": "code",
   "execution_count": 21,
   "id": "db0d00fc-3655-40c1-9287-6014a415d897",
   "metadata": {},
   "outputs": [
    {
     "name": "stdin",
     "output_type": "stream",
     "text": [
      "Enter the Year :  2021\n",
      "Enter the month :  2\n"
     ]
    },
    {
     "name": "stdout",
     "output_type": "stream",
     "text": [
      "Year is not a leap Year and Number of Days is 2nd Month is 28\n"
     ]
    }
   ],
   "source": [
    "year=int(input(\"Enter the Year : \"))\n",
    "month=int(input(\"Enter the month : \"))\n",
    "if (month==2) and year%4==0:\n",
    "    print(\"Year is a leap Year and Number of Days is 2nd Month is 29\")\n",
    "elif (month==2) and year%4!=0:\n",
    "    print(\"Year is not a leap Year and Number of Days is 2nd Month is 28\")\n",
    "elif(month==1 or month==3 or month==5 or month==7 or month==8 or month==10 or month==12):\n",
    "    print(\"Number of Days in month is 31\")\n",
    "else:\n",
    "    print(\"Number of Days in month is 30\")"
   ]
  },
  {
   "cell_type": "code",
   "execution_count": null,
   "id": "6429851a-47c4-4afa-b49c-48dec364e3f0",
   "metadata": {},
   "outputs": [],
   "source": []
  },
  {
   "cell_type": "code",
   "execution_count": null,
   "id": "4f5fe842-f77b-4b5f-81c1-46efec0339f4",
   "metadata": {},
   "outputs": [],
   "source": []
  },
  {
   "cell_type": "code",
   "execution_count": 22,
   "id": "dff81521-4b6b-410d-bb95-4595ac6acbc8",
   "metadata": {},
   "outputs": [],
   "source": [
    "#### Basic Level"
   ]
  },
  {
   "cell_type": "code",
   "execution_count": 23,
   "id": "b637c6d1-5cae-4d77-99f6-0a218ed34f7a",
   "metadata": {},
   "outputs": [],
   "source": [
    "##1.Write a python program that checks if a given number is positive negative or zero."
   ]
  },
  {
   "cell_type": "code",
   "execution_count": 24,
   "id": "9893f69f-30c4-402b-8131-72e86cd8c4d5",
   "metadata": {},
   "outputs": [
    {
     "name": "stdin",
     "output_type": "stream",
     "text": [
      "Input a number:  -5\n"
     ]
    },
    {
     "name": "stdout",
     "output_type": "stream",
     "text": [
      "Number is Negative number.\n"
     ]
    }
   ],
   "source": [
    "n = float(input(\"Input a number: \"))\n",
    "if n >= 0:\n",
    "    if n == 0:\n",
    "        print(\"It is Zero!\")\n",
    "    else:\n",
    "        print(\"Number is Positive number.\")\n",
    "else:\n",
    "    print(\"Number is Negative number.\")"
   ]
  },
  {
   "cell_type": "code",
   "execution_count": null,
   "id": "09531348-8451-4294-b3d4-3b0948a60824",
   "metadata": {},
   "outputs": [],
   "source": []
  },
  {
   "cell_type": "code",
   "execution_count": 25,
   "id": "db884ff8-c53a-47fd-80e7-a914d55d18b4",
   "metadata": {},
   "outputs": [],
   "source": [
    "##2.Create a program to determine if a person is eligible to vote based or their age."
   ]
  },
  {
   "cell_type": "code",
   "execution_count": 26,
   "id": "7effb642-f777-4270-b570-d674ad193a62",
   "metadata": {},
   "outputs": [
    {
     "name": "stdin",
     "output_type": "stream",
     "text": [
      "Enter the age 15\n"
     ]
    },
    {
     "name": "stdout",
     "output_type": "stream",
     "text": [
      "Person is not Eligible to Vote\n"
     ]
    }
   ],
   "source": [
    "age=int(input(\"Enter the age\"))\n",
    "if age<18:\n",
    "    print(\"Person is not Eligible to Vote\")\n",
    "else:\n",
    "    print(\"Person is Eligible to Vote\")"
   ]
  },
  {
   "cell_type": "code",
   "execution_count": 27,
   "id": "597da3b5-20c4-4bcc-879d-859501683e79",
   "metadata": {},
   "outputs": [],
   "source": [
    "###3.Write a program to find the maximum of two given numbers using conditional statements."
   ]
  },
  {
   "cell_type": "code",
   "execution_count": 28,
   "id": "80677732-0c3c-4ebe-9d97-3bf29caa663a",
   "metadata": {},
   "outputs": [
    {
     "name": "stdin",
     "output_type": "stream",
     "text": [
      "Enter the First Number 4\n",
      "Enter the Second Number 5\n"
     ]
    },
    {
     "name": "stdout",
     "output_type": "stream",
     "text": [
      "Second Number is Maximum\n"
     ]
    }
   ],
   "source": [
    "first=float(input(\"Enter the First Number\"))\n",
    "second=float(input(\"Enter the Second Number\"))\n",
    "if first>second:\n",
    "    print(\"First Number is Maximum\")\n",
    "else:\n",
    "    print(\"Second Number is Maximum\")"
   ]
  },
  {
   "cell_type": "code",
   "execution_count": null,
   "id": "d2674810-d823-4bc1-b345-cda87fb2752e",
   "metadata": {},
   "outputs": [],
   "source": []
  },
  {
   "cell_type": "code",
   "execution_count": 29,
   "id": "ea07b9e9-104d-4348-912d-1e9f7dd9e4ee",
   "metadata": {},
   "outputs": [],
   "source": [
    "##4.Develop a program that calculates the grade of a student based on their exam score."
   ]
  },
  {
   "cell_type": "code",
   "execution_count": 30,
   "id": "48abaf3a-66d0-4a56-b4cd-e3727b75a715",
   "metadata": {},
   "outputs": [
    {
     "name": "stdin",
     "output_type": "stream",
     "text": [
      "Enter the score gained by Student 81\n"
     ]
    },
    {
     "name": "stdout",
     "output_type": "stream",
     "text": [
      "Grade is A\n"
     ]
    }
   ],
   "source": [
    "score=int(input(\"Enter the score gained by Student\"))\n",
    "if score>90:\n",
    "    print(\"Grade is A+\")\n",
    "elif score>80 and score<=90:\n",
    "    print(\"Grade is A\")\n",
    "elif score>70 and score<=80:\n",
    "    print(\"Grade is B+\")\n",
    "elif score>60 and score<=70:\n",
    "    print(\"Grade is B\")\n",
    "elif score>50 and score<=60:\n",
    "    print(\"Grade is C\")\n",
    "elif score>40 and score<=50:\n",
    "    print(\"Grade is D\")\n",
    "elif score>=33 and score<=40:\n",
    "    print(\"Grade is E\")\n",
    "else:\n",
    "    print(\"Fail\")"
   ]
  },
  {
   "cell_type": "code",
   "execution_count": null,
   "id": "3f1145da-c5c3-4f9a-a887-915c479ecbff",
   "metadata": {},
   "outputs": [],
   "source": []
  },
  {
   "cell_type": "code",
   "execution_count": 31,
   "id": "fc0a0e07-d0b1-4262-9702-2ff849f7da45",
   "metadata": {},
   "outputs": [],
   "source": [
    "##5.Create a program that checks if a year is leap year or not."
   ]
  },
  {
   "cell_type": "code",
   "execution_count": 32,
   "id": "2398be79-5a1a-4b2b-b666-f2d933e47ade",
   "metadata": {},
   "outputs": [
    {
     "name": "stdin",
     "output_type": "stream",
     "text": [
      "Enter the Year 2021\n"
     ]
    },
    {
     "name": "stdout",
     "output_type": "stream",
     "text": [
      "Year is not a Leap Year\n"
     ]
    }
   ],
   "source": [
    "year=int(input(\"Enter the Year\"))\n",
    "if year%4==0:\n",
    "    print(\"Year is a Leap Year\")\n",
    "else:\n",
    "    print(\"Year is not a Leap Year\")"
   ]
  },
  {
   "cell_type": "code",
   "execution_count": null,
   "id": "db5e7e34-897f-43a8-9dc7-4c30cf26b279",
   "metadata": {},
   "outputs": [],
   "source": []
  },
  {
   "cell_type": "code",
   "execution_count": 33,
   "id": "1a5394d6-03c3-44d0-87b0-8d0b6eeb6f92",
   "metadata": {},
   "outputs": [],
   "source": [
    "##6.Write a program to classify a triangle based on it's sides length."
   ]
  },
  {
   "cell_type": "code",
   "execution_count": 42,
   "id": "92813c8f-1948-4a4c-a1a1-b6c4ae1ab6a8",
   "metadata": {},
   "outputs": [
    {
     "name": "stdin",
     "output_type": "stream",
     "text": [
      "Enter the First Side 4\n",
      "Enter the Second Side 4\n",
      "Enter the Third Side 5\n"
     ]
    },
    {
     "name": "stdout",
     "output_type": "stream",
     "text": [
      "Triangle is Isosceles Triangle\n"
     ]
    }
   ],
   "source": [
    "first=float(input(\"Enter the First Side\"))\n",
    "second=float(input(\"Enter the Second Side\"))\n",
    "third=float(input(\"Enter the Third Side\"))\n",
    "if first==second and first==third:\n",
    "    print(\"Triangle is Equilateral\")\n",
    "elif (first==second or second==third or third==first):\n",
    "    print(\"Triangle is Isosceles Triangle\")\n",
    "else:\n",
    "    print(\"Triangle is Scalene Triangle\")"
   ]
  },
  {
   "cell_type": "code",
   "execution_count": null,
   "id": "6694de80-9b99-43b6-87a4-8b2ceb86dc11",
   "metadata": {},
   "outputs": [],
   "source": []
  },
  {
   "cell_type": "code",
   "execution_count": 44,
   "id": "bf2d5af2-35a8-48b3-af94-aba4b30a5dd3",
   "metadata": {},
   "outputs": [],
   "source": [
    "##7.Build a program that determines the largest of the three given numbers."
   ]
  },
  {
   "cell_type": "code",
   "execution_count": 45,
   "id": "dcbdea61-2887-4827-a17e-9bd23f8801ec",
   "metadata": {},
   "outputs": [
    {
     "name": "stdin",
     "output_type": "stream",
     "text": [
      "Enter the First Number 5\n",
      "Enter the Second Number 6\n",
      "Enter the Third Number 6\n"
     ]
    },
    {
     "name": "stdout",
     "output_type": "stream",
     "text": [
      "Largest Number is :  6.0\n"
     ]
    }
   ],
   "source": [
    "first=float(input(\"Enter the First Number\"))\n",
    "second=float(input(\"Enter the Second Number\"))\n",
    "third=float(input(\"Enter the Third Number\"))\n",
    "if first>second:\n",
    "    if first>third:\n",
    "        x=first\n",
    "    else:\n",
    "        x=third\n",
    "else:\n",
    "    if second>third:\n",
    "        x=second\n",
    "    else:\n",
    "        x=third\n",
    "print(\"Largest Number is : \",x)    "
   ]
  },
  {
   "cell_type": "code",
   "execution_count": null,
   "id": "39737cc8-f827-4faf-989e-50ea435ebd61",
   "metadata": {},
   "outputs": [],
   "source": []
  },
  {
   "cell_type": "code",
   "execution_count": 46,
   "id": "85464e6d-6935-4cea-8cfa-a630b02e444b",
   "metadata": {},
   "outputs": [],
   "source": [
    "##8.Develop a program that checks whether a character is a vowel or not."
   ]
  },
  {
   "cell_type": "code",
   "execution_count": 47,
   "id": "c4bf6e9f-4633-4ee1-adea-b982acd2ca74",
   "metadata": {},
   "outputs": [
    {
     "name": "stdin",
     "output_type": "stream",
     "text": [
      "Enter the Chracter t\n"
     ]
    },
    {
     "name": "stdout",
     "output_type": "stream",
     "text": [
      "Character is consonant\n"
     ]
    }
   ],
   "source": [
    "char=str(input(\"Enter the Chracter\"))\n",
    "vowels=\"AEIOUaeiou\"\n",
    "consonants=\"BCDFGHJKLMNPQRSTVWXYZbcdfghjklmnpqrstvwxyz\"\n",
    "if char in vowels:\n",
    "    print(\"Character is a Vowel\")\n",
    "elif char in consonants:\n",
    "    print(\"Character is consonant\")\n",
    "else:\n",
    "    print(\"Character is neither vowel nor consonant\")"
   ]
  },
  {
   "cell_type": "code",
   "execution_count": null,
   "id": "05223fc0-9c23-4869-96b5-55a0f4caff53",
   "metadata": {},
   "outputs": [],
   "source": []
  },
  {
   "cell_type": "code",
   "execution_count": 49,
   "id": "76650b5a-817d-42b9-8b26-7cf3eb812c25",
   "metadata": {},
   "outputs": [],
   "source": [
    "##9.Create a program to calculate the total cost of a shopping cart based on discounts."
   ]
  },
  {
   "cell_type": "code",
   "execution_count": 50,
   "id": "3d4d622d-9342-437d-9727-fc77bb892c0c",
   "metadata": {},
   "outputs": [
    {
     "name": "stdin",
     "output_type": "stream",
     "text": [
      "Enter the Purchase Amount 1500\n"
     ]
    },
    {
     "name": "stdout",
     "output_type": "stream",
     "text": [
      "No offer is available\n"
     ]
    }
   ],
   "source": [
    "purchase_amount=float(input(\"Enter the Purchase Amount\"))\n",
    "if purchase_amount>=2000 and purchase_amount<=4999:\n",
    "    discounted_price=purchase_amount - (purchase_amount*10)/100\n",
    "    print(\"In puchase of more than 1999, 10% Discount is Given : \",discounted_price)\n",
    "elif purchase_amount>=5000 and purchase_amount<=9999:\n",
    "    discounted_price=purchase_amount - (purchase_amount*20)/100\n",
    "    print(\"In puchase of more than 4999, 20% Discount is Given : \",discounted_price)\n",
    "elif purchase_amount>=10000:\n",
    "    discounted_price=purchase_amount - (purchase_amount*35)/100\n",
    "    print(\"In puchase of more than 9999, 35% Discount is Given : \",discounted_price)\n",
    "else:\n",
    "    print(\"No offer is available\")"
   ]
  },
  {
   "cell_type": "code",
   "execution_count": null,
   "id": "966821d3-80e9-47ba-931a-4bf34d751431",
   "metadata": {},
   "outputs": [],
   "source": []
  },
  {
   "cell_type": "code",
   "execution_count": 51,
   "id": "f81628c3-8c1c-4150-93cf-28e07665af66",
   "metadata": {},
   "outputs": [],
   "source": [
    "##10.Write a program that checks if a given number is even or odd."
   ]
  },
  {
   "cell_type": "code",
   "execution_count": 52,
   "id": "eee10376-c85f-4176-941c-0baab155602f",
   "metadata": {},
   "outputs": [
    {
     "name": "stdin",
     "output_type": "stream",
     "text": [
      "Enter the number 6\n"
     ]
    },
    {
     "name": "stdout",
     "output_type": "stream",
     "text": [
      "Number is Even\n"
     ]
    }
   ],
   "source": [
    "number=int(input(\"Enter the number\"))\n",
    "if number%2==0:\n",
    "    print(\"Number is Even\")\n",
    "else:\n",
    "    print(\"Number is Odd\")"
   ]
  },
  {
   "cell_type": "code",
   "execution_count": null,
   "id": "ed0da00a-04c3-4d9f-afd7-d13a21ee79b5",
   "metadata": {},
   "outputs": [],
   "source": []
  },
  {
   "cell_type": "code",
   "execution_count": 53,
   "id": "ad0ecdef-b495-4e7e-b5c2-e5d64bf84019",
   "metadata": {},
   "outputs": [],
   "source": [
    "###Intermediate Level"
   ]
  },
  {
   "cell_type": "code",
   "execution_count": 54,
   "id": "15d324a8-e976-413e-ace7-5077b091bfba",
   "metadata": {},
   "outputs": [],
   "source": [
    "##11.Write a program that calculates the roots of a quadratic equation."
   ]
  },
  {
   "cell_type": "code",
   "execution_count": 56,
   "id": "11d3745f-7a3c-4952-874f-63d5da3c3520",
   "metadata": {},
   "outputs": [
    {
     "name": "stdout",
     "output_type": "stream",
     "text": [
      "Quadratic function : (a * x^2) + b*x + c\n"
     ]
    },
    {
     "name": "stdin",
     "output_type": "stream",
     "text": [
      "a:  5\n",
      "b:  9\n",
      "c:  3\n"
     ]
    },
    {
     "name": "stdout",
     "output_type": "stream",
     "text": [
      "There are 2 roots: -0.441742 and -1.358258\n"
     ]
    }
   ],
   "source": [
    "from math import sqrt\n",
    "\n",
    "print(\"Quadratic function : (a * x^2) + b*x + c\")\n",
    "a = float(input(\"a: \"))\n",
    "b = float(input(\"b: \"))\n",
    "c = float(input(\"c: \"))\n",
    "\n",
    "r = b**2 - 4*a*c\n",
    "\n",
    "if r > 0:\n",
    "    num_roots = 2\n",
    "    x1 = (((-b) + sqrt(r))/(2*a))     \n",
    "    x2 = (((-b) - sqrt(r))/(2*a))\n",
    "    print(\"There are 2 roots: %f and %f\" % (x1, x2))\n",
    "elif r == 0:\n",
    "    num_roots = 1\n",
    "    x = (-b) / 2*a\n",
    "    print(\"There is one root: \", x)\n",
    "else:\n",
    "    num_roots = 0\n",
    "    print(\"No roots, discriminant < 0.\")"
   ]
  },
  {
   "cell_type": "code",
   "execution_count": null,
   "id": "de184d84-ac0f-4f11-b775-4657bedb5029",
   "metadata": {},
   "outputs": [],
   "source": []
  },
  {
   "cell_type": "code",
   "execution_count": 57,
   "id": "22831fcb-f72d-4fea-a29a-a963bfda06ce",
   "metadata": {},
   "outputs": [],
   "source": [
    "##12.Create a program that determines the day of the week based on the day number."
   ]
  },
  {
   "cell_type": "code",
   "execution_count": 62,
   "id": "dc9ccacb-c4a1-4f61-8774-8ac16c9ed948",
   "metadata": {},
   "outputs": [
    {
     "name": "stdin",
     "output_type": "stream",
     "text": [
      "Enter the number 0\n"
     ]
    },
    {
     "name": "stdout",
     "output_type": "stream",
     "text": [
      "Please input correct number\n"
     ]
    }
   ],
   "source": [
    "number=int(input(\"Enter the number\"))\n",
    "if number>=0 and number<8:\n",
    "    if number==1:\n",
    "        print(\"Monday\")\n",
    "    if number==2:\n",
    "        print(\"Tuesday\")\n",
    "    if number==3:\n",
    "        print(\"Wednesday\")\n",
    "    if number==4:\n",
    "        print(\"Thursday\")\n",
    "    if number==5:\n",
    "        print(\"Friday\")\n",
    "    if number==6:\n",
    "        print(\"Saturday\")\n",
    "    if number==7:\n",
    "        print(\"Sunday\")\n",
    "    if number==0:\n",
    "        print(\"Please input correct number\")\n",
    "        \n",
    "else:\n",
    "    print(\"Please input correct number\")"
   ]
  },
  {
   "cell_type": "code",
   "execution_count": null,
   "id": "fcf570dc-dd2c-4973-98b3-aa07e5228de4",
   "metadata": {},
   "outputs": [],
   "source": []
  },
  {
   "cell_type": "code",
   "execution_count": 63,
   "id": "27e97d27-009a-4768-9473-4046903f9d27",
   "metadata": {},
   "outputs": [],
   "source": [
    "##13.Develop a program that calculates the factorial of a given number using recursion."
   ]
  },
  {
   "cell_type": "code",
   "execution_count": 64,
   "id": "67989242-245e-4e54-b259-b1cb4d65a1bd",
   "metadata": {},
   "outputs": [],
   "source": [
    "def fact(n):\n",
    "    if n==0:\n",
    "        return 1\n",
    "    else:\n",
    "        return n*fact(n-1)"
   ]
  },
  {
   "cell_type": "code",
   "execution_count": 67,
   "id": "09a42b08-30b8-4a1b-a16c-fde795ffc2ff",
   "metadata": {},
   "outputs": [
    {
     "name": "stdout",
     "output_type": "stream",
     "text": [
      "Factorial of the entered number is :  5040\n"
     ]
    }
   ],
   "source": [
    "print(\"Factorial of the entered number is : \",fact(7))"
   ]
  },
  {
   "cell_type": "code",
   "execution_count": null,
   "id": "15b6c53c-8795-44aa-b749-c5f996af857c",
   "metadata": {},
   "outputs": [],
   "source": []
  },
  {
   "cell_type": "code",
   "execution_count": 68,
   "id": "44d66c75-9744-4498-878a-dd78fedfa639",
   "metadata": {},
   "outputs": [],
   "source": [
    "##14.Write a program to find the largest among three numbers without using max function."
   ]
  },
  {
   "cell_type": "code",
   "execution_count": 69,
   "id": "0d9fe454-2f2a-48d3-b571-1db801ff5b89",
   "metadata": {},
   "outputs": [
    {
     "name": "stdin",
     "output_type": "stream",
     "text": [
      "Enter the First Number 7\n",
      "Enter the Second Number 8\n",
      "Enter the Third Number 9\n"
     ]
    },
    {
     "name": "stdout",
     "output_type": "stream",
     "text": [
      "Largest Number is :  9.0\n"
     ]
    }
   ],
   "source": [
    "first=float(input(\"Enter the First Number\"))\n",
    "second=float(input(\"Enter the Second Number\"))\n",
    "third=float(input(\"Enter the Third Number\"))\n",
    "if first>second:\n",
    "    if first>third:\n",
    "        x=first\n",
    "    else:\n",
    "        x=third\n",
    "else:\n",
    "    if second>third:\n",
    "        x=second\n",
    "    else:\n",
    "        x=third\n",
    "print(\"Largest Number is : \",x)  "
   ]
  },
  {
   "cell_type": "code",
   "execution_count": null,
   "id": "496d78ca-c4f7-438c-9e7f-60083080dbab",
   "metadata": {},
   "outputs": [],
   "source": []
  },
  {
   "cell_type": "code",
   "execution_count": 70,
   "id": "5871561b-39a3-491b-affd-2c2549efbab7",
   "metadata": {},
   "outputs": [],
   "source": [
    "##15.Create a program that simulates a basic Transaction Menu."
   ]
  },
  {
   "cell_type": "code",
   "execution_count": 79,
   "id": "1e553e50-79b5-415d-8c68-cfc0536d3107",
   "metadata": {},
   "outputs": [
    {
     "name": "stdout",
     "output_type": "stream",
     "text": [
      "Welcome to Bank of India\n"
     ]
    },
    {
     "name": "stdin",
     "output_type": "stream",
     "text": [
      "Enter your 4 digit pin number:  1234\n"
     ]
    },
    {
     "name": "stdout",
     "output_type": "stream",
     "text": [
      "1-Withdraw\n",
      "2-Balance Enquiry\n",
      "3-Fast Cash\n"
     ]
    },
    {
     "name": "stdin",
     "output_type": "stream",
     "text": [
      "Please choose transactions:  1\n",
      "Enter withdraw amount:  2200\n"
     ]
    },
    {
     "name": "stdout",
     "output_type": "stream",
     "text": [
      "Please take your amount: 2200\n"
     ]
    }
   ],
   "source": [
    "print(\"Welcome to Bank of India\")\n",
    "PIN=int(input(\"Enter your 4 digit pin number: \"))\n",
    "Balance = 25000\n",
    "if(PIN == 1234):\n",
    "    print(\"1-Withdraw\")\n",
    "    print(\"2-Balance Enquiry\")\n",
    "    print(\"3-Fast Cash\")\n",
    "    OPTION = int(input(\"Please choose transactions: \"))\n",
    "    if (OPTION == 1):\n",
    "        WITHDRAW=int(input(\"Enter withdraw amount: \"))\n",
    "        if (WITHDRAW < Balance and WITHDRAW%100 == 0):\n",
    "            print(\"Please take your amount:\", WITHDRAW)\n",
    "        else:\n",
    "            print(\"Invalid cash\")\n",
    "\n",
    "    elif(OPTION==2):\n",
    "        print(\"Your available amount : \",Balance)\n",
    "\n",
    "    elif (OPTION == 3):\n",
    "        print(\"1->5,000\")\n",
    "        print(\"2->10,000\")\n",
    "        print(\"3->15,000\")\n",
    "        print(\"4->20,000\")\n",
    "        FAST = int(input(\"Enter fast cash option: \"))\n",
    "        if (FAST== 1 and 5000 < Balance):\n",
    "            print(\"please take cash 5000\")\n",
    "        elif (FAST == 2 and 10000 < Balance):\n",
    "            print(\"please take cash 10000\")\n",
    "        elif (FAST == 3 and 15000 < Balance):\n",
    "            print(\"please take cash 15000\")\n",
    "        elif (FAST == 4 and 20000 < Balance):\n",
    "            print(\"please take cash 20000\")\n",
    "        else:\n",
    "            print(\"Invalid fast cash option\")\n",
    "    else:\n",
    "        print(\"Wrong choice\")\n",
    "else:\n",
    "    print(\"Wrong pin number\")"
   ]
  },
  {
   "cell_type": "code",
   "execution_count": null,
   "id": "086944a9-3d8b-41ca-84b5-ccaeae0b950e",
   "metadata": {},
   "outputs": [],
   "source": []
  },
  {
   "cell_type": "code",
   "execution_count": 80,
   "id": "fb934be6-790b-4a78-84fd-bfd8cc5d58f9",
   "metadata": {},
   "outputs": [],
   "source": [
    "###16.Build a program that checks if a given string is a palindrome or not."
   ]
  },
  {
   "cell_type": "code",
   "execution_count": 3,
   "id": "c858e96d-c2aa-4dc9-be1a-0f9aa9eb62de",
   "metadata": {},
   "outputs": [
    {
     "name": "stdin",
     "output_type": "stream",
     "text": [
      "Enter the String :  tut\n"
     ]
    },
    {
     "name": "stdout",
     "output_type": "stream",
     "text": [
      "String is Palindrome\n"
     ]
    }
   ],
   "source": [
    "string=str(input(\"Enter the String : \"))\n",
    "if len(string)==1:\n",
    "    print(\"String has only 1 Letter\")\n",
    "elif len(string)>1 and string==string[::-1]:\n",
    "    print(\"String is Palindrome\")\n",
    "else:\n",
    "    print(\"String is not Palindrome\")"
   ]
  },
  {
   "cell_type": "code",
   "execution_count": null,
   "id": "7ba948ce-bfa8-4ad9-ac77-d2d070cda543",
   "metadata": {},
   "outputs": [],
   "source": []
  },
  {
   "cell_type": "code",
   "execution_count": 85,
   "id": "eca05c2b-2c9d-4163-bb0f-037b39b70a03",
   "metadata": {},
   "outputs": [],
   "source": [
    "###17.Write a program that calculates the average of a list of numbers , excluding the smallest & largest values."
   ]
  },
  {
   "cell_type": "code",
   "execution_count": 96,
   "id": "12fc6fea-85ec-4e86-b05e-7399133fee75",
   "metadata": {},
   "outputs": [
    {
     "name": "stdout",
     "output_type": "stream",
     "text": [
      "Average of a list of numbers excluding the smallest & largest values :  5.0\n"
     ]
    }
   ],
   "source": [
    "list1=[1,2,3,4,5,6,7,8,9]\n",
    "length=len(list1)\n",
    "sort=sorted(list1)\n",
    "sum1=0\n",
    "for i in range(2,len(list1)):\n",
    "    sum1=sum1+i\n",
    "average=sum1/(length-2)\n",
    "print(\"Average of a list of numbers excluding the smallest & largest values : \",average)"
   ]
  },
  {
   "cell_type": "code",
   "execution_count": null,
   "id": "336f9838-5ec1-4551-a735-a45532301884",
   "metadata": {},
   "outputs": [],
   "source": []
  },
  {
   "cell_type": "code",
   "execution_count": 97,
   "id": "3da7085a-24e4-45e7-a055-5e68dd708dee",
   "metadata": {},
   "outputs": [],
   "source": [
    "###18.Develop a program that converts a given temparature from celsius to Farenheit."
   ]
  },
  {
   "cell_type": "code",
   "execution_count": 99,
   "id": "f3526b7e-9ebe-4b64-9b1e-851557802c28",
   "metadata": {},
   "outputs": [
    {
     "name": "stdin",
     "output_type": "stream",
     "text": [
      "Enter the Temparatute in Celsius :  98\n"
     ]
    },
    {
     "name": "stdout",
     "output_type": "stream",
     "text": [
      "Temperature in Fahrenheit is:  208.4\n"
     ]
    }
   ],
   "source": [
    "celsius=float(input(\"Enter the Temparatute in Celsius : \"))\n",
    "fahrenheit= ((celsius*9)/5)+32  \n",
    "print(\"Temperature in Fahrenheit is: \",fahrenheit)"
   ]
  },
  {
   "cell_type": "code",
   "execution_count": null,
   "id": "4481aa38-85c1-4d8c-8331-ee05ccfe4d50",
   "metadata": {},
   "outputs": [],
   "source": []
  },
  {
   "cell_type": "code",
   "execution_count": 100,
   "id": "a2be5873-d9b4-4f1b-b062-c9a17b65e2ed",
   "metadata": {},
   "outputs": [],
   "source": [
    "##19.Create a program that simulates a basic calculator for addition substraction multiplication and division."
   ]
  },
  {
   "cell_type": "code",
   "execution_count": 101,
   "id": "4d533c57-4f31-4eaf-94cc-216bb7cfbc03",
   "metadata": {},
   "outputs": [
    {
     "name": "stdout",
     "output_type": "stream",
     "text": [
      "Please select the operation.\n",
      "a. Add\n",
      "b. Subtract\n",
      "c. Multiply\n",
      "d. Divide\n"
     ]
    },
    {
     "name": "stdin",
     "output_type": "stream",
     "text": [
      "Please enter choice (a/ b/ c/ d):  a\n",
      "Please enter the first number:  6\n",
      "Please enter the second number:  8\n"
     ]
    },
    {
     "name": "stdout",
     "output_type": "stream",
     "text": [
      "6  +  8  =  14\n"
     ]
    }
   ],
   "source": [
    "def add(P, Q):\n",
    "    return P + Q   \n",
    "def subtract(P, Q):\n",
    "    return P - Q   \n",
    "def multiply(P, Q): \n",
    "    return P * Q   \n",
    "def divide(P, Q):\n",
    "    return P / Q  \n",
    "print (\"Please select the operation.\")    \n",
    "print (\"a. Add\")    \n",
    "print (\"b. Subtract\")    \n",
    "print (\"c. Multiply\")    \n",
    "print (\"d. Divide\")    \n",
    "choice = input(\"Please enter choice (a/ b/ c/ d): \")    \n",
    "num_1 = int (input (\"Please enter the first number: \"))    \n",
    "num_2 = int (input (\"Please enter the second number: \"))    \n",
    "    \n",
    "if choice == 'a':\n",
    "    print (num_1, \" + \", num_2, \" = \", add(num_1, num_2))\n",
    "elif choice == 'b':    \n",
    "    print (num_1, \" - \", num_2, \" = \", subtract(num_1, num_2))\n",
    "elif choice == 'c':    \n",
    "    print (num1, \" * \", num2, \" = \", multiply(num1, num2))\n",
    "elif choice == 'd':    \n",
    "    print (num_1, \" / \", num_2, \" = \", divide(num_1, num_2))\n",
    "else:    \n",
    "    print (\"This is an invalid input\")"
   ]
  },
  {
   "cell_type": "code",
   "execution_count": null,
   "id": "c5b9d247-f199-4ff3-86b3-51c452167ac6",
   "metadata": {},
   "outputs": [],
   "source": []
  },
  {
   "cell_type": "code",
   "execution_count": 1,
   "id": "a1194c09-d2d7-411c-8eab-9fad8849b626",
   "metadata": {},
   "outputs": [],
   "source": [
    "###20.Write a program that determines the roots of a cubic equation using the Cardano formula."
   ]
  },
  {
   "cell_type": "code",
   "execution_count": 6,
   "id": "12bf542b-103c-4248-9861-8c75c704f11c",
   "metadata": {},
   "outputs": [
    {
     "name": "stdin",
     "output_type": "stream",
     "text": [
      "Enter the coefficient of x^3:  5\n",
      "Enter the coefficient of x^2:  3\n",
      "Enter the coefficient of x:  1\n",
      "Enter the constant term:  8\n"
     ]
    },
    {
     "name": "stdout",
     "output_type": "stream",
     "text": [
      "Roots: ((-0.17708522717775094+0j), (0.3818662675284355+1.007821938569715j), (-0.7023905201753422-0.5039109692848575j))\n"
     ]
    }
   ],
   "source": [
    "import cmath\n",
    "\n",
    "def cubic_roots(a, b, c, d):\n",
    "    p = c / a - (b**2) / (3 * a**2)\n",
    "    q = (2 * b**3) / (27 * a**3) - (b * c) / (3 * a**2) + d / a\n",
    "    delta = (q**2) / 4 + (p**3) / 27\n",
    "    if delta > 0:\n",
    "        root1 = (-q / 2 + cmath.sqrt(delta))**(1 / 3)\n",
    "        root2 = (-q / 2 - cmath.sqrt(delta))**(1 / 3)\n",
    "        root3 = -b / (3 * a) - (root1 + root2) / 2\n",
    "    else:\n",
    "        r = cmath.sqrt((-4 * p**3) / 27)\n",
    "        theta = cmath.acos(-q / (2 * r))\n",
    "        root1 = 2 * cmath.sqrt(-p / 3) * cmath.cos(theta / 3)\n",
    "        root2 = 2 * cmath.sqrt(-p / 3) * cmath.cos((theta + 2 * cmath.pi) / 3)\n",
    "        root3 = 2 * cmath.sqrt(-p / 3) * cmath.cos((theta + 4 * cmath.pi) / 3)\n",
    "\n",
    "    return root1 - b / (3 * a), root2 - b / (3 * a), root3 - b / (3 * a)\n",
    "a_coefficient = float(input(\"Enter the coefficient of x^3: \"))\n",
    "b_coefficient = float(input(\"Enter the coefficient of x^2: \"))\n",
    "c_coefficient = float(input(\"Enter the coefficient of x: \"))\n",
    "d_coefficient = float(input(\"Enter the constant term: \"))\n",
    "\n",
    "roots = cubic_roots(a_coefficient, b_coefficient, c_coefficient, d_coefficient)\n",
    "print(\"Roots:\", roots)\n"
   ]
  },
  {
   "cell_type": "code",
   "execution_count": 2,
   "id": "2fe4ac44-92e1-46a9-abd2-968f582e1711",
   "metadata": {},
   "outputs": [],
   "source": [
    "##21.Create a program that calculates the income tax based on the user's income and tax brackets."
   ]
  },
  {
   "cell_type": "code",
   "execution_count": 6,
   "id": "2b585e9e-ad1e-4bba-bf34-378c28645a00",
   "metadata": {},
   "outputs": [
    {
     "name": "stdin",
     "output_type": "stream",
     "text": [
      "Enter the Income 1750000\n"
     ]
    },
    {
     "name": "stdout",
     "output_type": "stream",
     "text": [
      "Tax for Entered Salary is :  82500.0\n"
     ]
    }
   ],
   "source": [
    "income=int(input(\"Enter the Income\"))\n",
    "standard_deduction=50000\n",
    "taxable_income=income-standard_deduction\n",
    "if taxable_income<750000:\n",
    "    print(\"Income is not taxable\")\n",
    "elif taxable_income>=750000 and taxable_income<1000000:\n",
    "    tax=((taxable_income-750000)*5)/100\n",
    "    print(\"Tax for Entered Salary is : \",tax)\n",
    "elif taxable_income>=1000000 and taxable_income<1200000:\n",
    "    tax=((250000*5)/100)+(((taxable_income-1000000)*7.5)/100)\n",
    "    print(\"Tax for Entered Salary is : \",tax)\n",
    "elif taxable_income>=1200000 and taxable_income<1500000:\n",
    "    tax=((250000*5)/100)+((200000*7.5)/100)+(((taxable_income-1200000)*10)/100)\n",
    "    print(\"Tax for Entered Salary is : \",tax)\n",
    "else:\n",
    "    tax=((250000*5)/100)+((200000*7.5)/100)+((300000*10)/100)+(((taxable_income-1500000)*12.5)/100)\n",
    "    print(\"Tax for Entered Salary is : \",tax)"
   ]
  },
  {
   "cell_type": "code",
   "execution_count": null,
   "id": "eeaa9e36-f03e-46da-ae97-a5ec575eed07",
   "metadata": {},
   "outputs": [],
   "source": []
  },
  {
   "cell_type": "code",
   "execution_count": null,
   "id": "eff97a96-49c5-4a88-af12-f8c3ae17075d",
   "metadata": {},
   "outputs": [],
   "source": [
    "##22.Write a program that stimulates a rock paper scissors game against the computer."
   ]
  },
  {
   "cell_type": "code",
   "execution_count": 23,
   "id": "330127b0-9436-4fc2-881f-f38bb965439a",
   "metadata": {},
   "outputs": [
    {
     "name": "stdin",
     "output_type": "stream",
     "text": [
      "Rock, Paper, Scissors? Rock\n"
     ]
    },
    {
     "name": "stdout",
     "output_type": "stream",
     "text": [
      "Human's Choice :  Rock\n",
      "Tie!\n",
      "Computer's Input :  Rock\n"
     ]
    }
   ],
   "source": [
    "import random \n",
    "Human=False\n",
    "Play = [\"Rock\", \"Paper\", \"Scissors\"]\n",
    "Computer = Play[random.randint(0,2)]\n",
    "while Human == False:\n",
    "    Human = input(\"Rock, Paper, Scissors?\") \n",
    "    print(\"Human's Choice : \",Human)\n",
    "    if Human == Computer: \n",
    "        print(\"Tie!\") \n",
    "    elif Human == \"Rock\": \n",
    "        if Computer == \"Paper\": \n",
    "            print(\"You lose!\", Computer, \"covers\", Human) \n",
    "        else: \n",
    "            print(\"You win!\", Human, \"smashes\", Computer) \n",
    "    elif Human == \"Paper\": \n",
    "        if Computer == \"Scissors\": \n",
    "            print(\"You lose!\", Computer, \"cuts\", Human) \n",
    "        else: \n",
    "            print(\"You win!\", Human, \"covers\", Computer) \n",
    "    elif Human == \"Scissors\": \n",
    "        if Computer == \"Rock\": \n",
    "            print(\"You lose...\", Computer, \"smashes\", Human) \n",
    "        else: \n",
    "            print(\"You win!\", Human, \"cuts\", Computer) \n",
    "    else: \n",
    "        print(\"That's not a valid play. Check the spelling!\")\n",
    "print(\"Computer's Input : \",Computer)"
   ]
  },
  {
   "cell_type": "code",
   "execution_count": null,
   "id": "bcfa2c02-1007-443d-80fe-97bacc01193a",
   "metadata": {},
   "outputs": [],
   "source": []
  },
  {
   "cell_type": "code",
   "execution_count": 24,
   "id": "6553c92b-df33-4e2b-accb-81915853a9de",
   "metadata": {},
   "outputs": [],
   "source": [
    "##23.Develop a program that generates a random password based on user preferences(length,complexity)"
   ]
  },
  {
   "cell_type": "code",
   "execution_count": 45,
   "id": "0e696ee8-34c2-4e1c-b188-4f991555d394",
   "metadata": {},
   "outputs": [
    {
     "name": "stdin",
     "output_type": "stream",
     "text": [
      "Enter the length of the password :  16\n",
      "Enter 1 for Strong Password(Includes Special Characters , Enter 2 For Hard Password(Includes Upper & Lower Case letters) & Enter 3 For Easy Password(Only Lower Case Letter is used) 1\n"
     ]
    },
    {
     "name": "stdout",
     "output_type": "stream",
     "text": [
      "A Randomly Generated Password is: PgC2FpkmSEgqG#eh\n"
     ]
    }
   ],
   "source": [
    "import random\n",
    "def Random_Password(n):\n",
    "    Chars1 = \"abcdefghijklmnopqrstuvwxyzABCDEFGHIJKLMNOPQRSTUVWXYZ123456789!@#$%^&*()\"\n",
    "    Chars2 = \"abcdefghijklmnopqrstuvwxyzABCDEFGHIJKLMNOPQRSTUVWXYZ\"\n",
    "    Chars3 = \"abcdefghijklmnopqrstuvwxyz\"\n",
    "    Pass = \"\"\n",
    "    Complexity=int(input(\"Enter 1 for Strong Password(Includes Special Characters , Enter 2 For Hard Password(Includes Upper & Lower Case letters) & Enter 3 For Easy Password(Only Lower Case Letter is used)\")) \n",
    "    for i in range(n):\n",
    "        if Complexity==1:\n",
    "                   Pass = Pass+random.choice(Chars1)\n",
    "        elif Complexity==2:\n",
    "                   Pass = Pass+random.choice(Chars2)\n",
    "        elif Complexity==3:\n",
    "                   Pass = Pass+random.choice(Chars3)\n",
    "        else:\n",
    "            print(\"Enter Correct Input\")\n",
    "    return Pass\n",
    "n = int(input(\"Enter the length of the password : \"))\n",
    "Pass = Random_Password(n)\n",
    "print(\"A Randomly Generated Password is:\", Pass)"
   ]
  },
  {
   "cell_type": "code",
   "execution_count": null,
   "id": "9b2918a0-201f-40f3-90af-f15003ccd118",
   "metadata": {},
   "outputs": [],
   "source": []
  },
  {
   "cell_type": "code",
   "execution_count": 46,
   "id": "5a2acdbb-1f96-4e55-97ef-ee1fd7928c71",
   "metadata": {},
   "outputs": [],
   "source": [
    "#24.Create a program that implements a simple text based adventure game with branching scenarios."
   ]
  },
  {
   "cell_type": "code",
   "execution_count": 5,
   "id": "dfefdab0-1545-4aed-8091-9884ac0b6bbe",
   "metadata": {},
   "outputs": [
    {
     "name": "stdout",
     "output_type": "stream",
     "text": [
      "Welcome to the world of Adventure\n",
      "You find yourself at a crossroad.What do you want to do?\n",
      "\n",
      "1.Go Left\n",
      "2.Go Right\n",
      "3.Quit\n"
     ]
    },
    {
     "name": "stdin",
     "output_type": "stream",
     "text": [
      "Enter your choice 1/2/3 2\n"
     ]
    },
    {
     "name": "stdout",
     "output_type": "stream",
     "text": [
      "\n",
      "You chose to go right. You encounter a rickety bridge.\n",
      "What will you do?\n",
      "\n",
      "1. Cross the bridge\n",
      "2. Turn back\n"
     ]
    },
    {
     "name": "stdin",
     "output_type": "stream",
     "text": [
      "Enter your choice (1/2):  1\n"
     ]
    },
    {
     "name": "stdout",
     "output_type": "stream",
     "text": [
      "\n",
      "You successfully cross the bridge and find a beautiful garden. Well done!\n",
      "\n",
      "1.Go Left\n",
      "2.Go Right\n",
      "3.Quit\n"
     ]
    },
    {
     "name": "stdin",
     "output_type": "stream",
     "text": [
      "Enter your choice 1/2/3 2\n"
     ]
    },
    {
     "name": "stdout",
     "output_type": "stream",
     "text": [
      "\n",
      "You chose to go right. You encounter a rickety bridge.\n",
      "What will you do?\n",
      "\n",
      "1. Cross the bridge\n",
      "2. Turn back\n"
     ]
    },
    {
     "name": "stdin",
     "output_type": "stream",
     "text": [
      "Enter your choice (1/2):  1\n"
     ]
    },
    {
     "name": "stdout",
     "output_type": "stream",
     "text": [
      "\n",
      "You successfully cross the bridge and find a beautiful garden. Well done!\n",
      "\n",
      "1.Go Left\n",
      "2.Go Right\n",
      "3.Quit\n"
     ]
    },
    {
     "name": "stdin",
     "output_type": "stream",
     "text": [
      "Enter your choice 1/2/3 3\n"
     ]
    },
    {
     "name": "stdout",
     "output_type": "stream",
     "text": [
      "Thanks for participation GoodBye!\n"
     ]
    }
   ],
   "source": [
    "def game():\n",
    "    print(\"Welcome to the world of Adventure\")\n",
    "    print(\"You find yourself at a crossroad.What do you want to do?\")\n",
    "    while True:\n",
    "        print(\"\\n1.Go Left\")\n",
    "        print(\"2.Go Right\")\n",
    "        print(\"3.Quit\")\n",
    "        choice=input(\"Enter your choice 1/2/3\")\n",
    "        if choice==\"1\":\n",
    "            left_path()\n",
    "        elif choice==\"2\":\n",
    "            right_path()\n",
    "        elif choice==\"3\":\n",
    "            print(\"Thanks for participation GoodBye!\")\n",
    "            break\n",
    "        else:\n",
    "            print(\"Please enter only 1 or 2 or 3\")\n",
    "            \n",
    "def left_path():\n",
    "    print(\"\\nYou chose to go left. Ahead, you see a mysterious cave.\")\n",
    "    print(\"What will you do?\")\n",
    "\n",
    "    print(\"\\n1. Enter the cave\")\n",
    "    print(\"2. Go back\")\n",
    "\n",
    "    choice = input(\"Enter your choice (1/2): \")\n",
    "\n",
    "    if choice == \"1\":\n",
    "        print(\"\\nInside the cave, you discover a hidden treasure. Congratulations, you win!\")\n",
    "    elif choice == \"2\":\n",
    "        print(\"\\nYou decide to go back to the crossroad.\")\n",
    "    else:\n",
    "        print(\"Invalid choice. Please enter 1 or 2.\")\n",
    "\n",
    "def right_path():\n",
    "    print(\"\\nYou chose to go right. You encounter a rickety bridge.\")\n",
    "    print(\"What will you do?\")\n",
    "\n",
    "    print(\"\\n1. Cross the bridge\")\n",
    "    print(\"2. Turn back\")\n",
    "\n",
    "    choice = input(\"Enter your choice (1/2): \")\n",
    "\n",
    "    if choice == \"1\":\n",
    "        print(\"\\nYou successfully cross the bridge and find a beautiful garden. Well done!\")\n",
    "    elif choice == \"2\":\n",
    "        print(\"\\nYou decide not to risk it and go back to the crossroad.\")\n",
    "    else:\n",
    "        print(\"Invalid choice. Please enter 1 or 2.\")\n",
    "\n",
    "game()\n",
    "        "
   ]
  },
  {
   "cell_type": "code",
   "execution_count": null,
   "id": "a4431d5c-d190-4869-b7d1-9c212fd3a423",
   "metadata": {},
   "outputs": [],
   "source": []
  },
  {
   "cell_type": "code",
   "execution_count": 11,
   "id": "6c10c74a-cc82-4bc0-9f0e-56b84a554502",
   "metadata": {},
   "outputs": [],
   "source": [
    "##25.Build a program that solves a linear equation for x,considering different cases."
   ]
  },
  {
   "cell_type": "code",
   "execution_count": 3,
   "id": "20621b27-5a84-485b-8c75-be8d915b671d",
   "metadata": {},
   "outputs": [
    {
     "name": "stdin",
     "output_type": "stream",
     "text": [
      "Enter the coefficient of x:  0\n",
      "Enter the constant term :  5\n"
     ]
    },
    {
     "name": "stdout",
     "output_type": "stream",
     "text": [
      "No solution (parallel to x-axis)\n"
     ]
    }
   ],
   "source": [
    "def linear(a,b):\n",
    "    if a==0 and b==0:\n",
    "        return \"Infinite Solutions(identityequation)\"\n",
    "    elif a==0:\n",
    "        return \"No solution (parallel to x-axis)\"\n",
    "    else:\n",
    "        x=-b/a\n",
    "        return f\"Solution : x={x}\"\n",
    "a_coff=float(input(\"Enter the coefficient of x: \"))\n",
    "b_coff=float(input(\"Enter the constant term : \"))\n",
    "result=linear(a_coff,b_coff)\n",
    "print(result)"
   ]
  },
  {
   "cell_type": "code",
   "execution_count": null,
   "id": "993f5bfb-026f-405b-8f88-a3877b3e8162",
   "metadata": {},
   "outputs": [],
   "source": []
  },
  {
   "cell_type": "code",
   "execution_count": 2,
   "id": "55017a9a-37e8-49af-9971-d1dd7ecda646",
   "metadata": {},
   "outputs": [],
   "source": [
    "##26.Write a python program that simulates a basic quiz game with multiple choice questions and scoring."
   ]
  },
  {
   "cell_type": "code",
   "execution_count": 20,
   "id": "92803cd7-73b0-4cee-8fb1-1eae3f5ecc3c",
   "metadata": {},
   "outputs": [
    {
     "name": "stdout",
     "output_type": "stream",
     "text": [
      "Welcome to this Quiz\n",
      "There will be 5 Questions in this Quiz , every correct answer will give you 10 Marks\n",
      "Let's Start:\n",
      "1:Which Team won the 1975 Cricket World Cup\n",
      "a.India \n",
      "b.Australia \n",
      "c.England \n",
      "d.West Indies\n"
     ]
    },
    {
     "name": "stdin",
     "output_type": "stream",
     "text": [
      "Please input your option d\n"
     ]
    },
    {
     "name": "stdout",
     "output_type": "stream",
     "text": [
      "Correct Answer\n",
      "Your Score is :  10\n",
      "2:Who was the highest run getter in 2003 World Cup\n",
      "a.Sanath Jaysurya \n",
      "b.Ricky Ponting \n",
      "c.Sachin Tendulkar \n",
      "d.Inzamam-Ul-Haq\n"
     ]
    },
    {
     "name": "stdin",
     "output_type": "stream",
     "text": [
      "Please input your option d\n"
     ]
    },
    {
     "name": "stdout",
     "output_type": "stream",
     "text": [
      "Wrong Answer\n",
      "Your Score is :  10\n",
      "3:Who was the player of the tournament in 2011 World Cup\n",
      "a.Sachin Tendulkar \n",
      "b.Ricky Ponting \n",
      "c.Yuvraj Singh \n",
      "d.Tilakratne Dilshan\n"
     ]
    },
    {
     "name": "stdin",
     "output_type": "stream",
     "text": [
      "Please input your option c\n"
     ]
    },
    {
     "name": "stdout",
     "output_type": "stream",
     "text": [
      "Correct Answer\n",
      "Your Score is :  20\n",
      "4:Who was the highest wicket taker in 2015 World Cup\n",
      "a.Jasprit Bumrah \n",
      "b.Mitchell Starc \n",
      "c.Lasith Malinga \n",
      "d.Kagiso Rabada\n"
     ]
    },
    {
     "name": "stdin",
     "output_type": "stream",
     "text": [
      "Please input your option c\n"
     ]
    },
    {
     "name": "stdout",
     "output_type": "stream",
     "text": [
      "Wrong Answer\n",
      "Your Score is :  20\n",
      "5:Which team was the runner up in 2019 World Cup\n",
      "a.England \n",
      "b.Newzealand \n",
      "c.India \n",
      "d.Australia\n"
     ]
    },
    {
     "name": "stdin",
     "output_type": "stream",
     "text": [
      "Please input your option b\n"
     ]
    },
    {
     "name": "stdout",
     "output_type": "stream",
     "text": [
      "Correct Answer\n",
      "Your Score is :  30\n"
     ]
    }
   ],
   "source": [
    "print(\"Welcome to this Quiz\")\n",
    "print(\"There will be 5 Questions in this Quiz , every correct answer will give you 10 Marks\\nLet's Start:\")\n",
    "score=0\n",
    "print(\"1:Which Team won the 1975 Cricket World Cup\\na.India \\nb.Australia \\nc.England \\nd.West Indies\")\n",
    "answer=str(input(\"Please input your option\"))\n",
    "if answer=='a' or answer=='b' or answer=='c':\n",
    "    print(\"Wrong Answer\")\n",
    "    score==score\n",
    "    print(\"Your Score is : \",score)\n",
    "elif answer=='d':\n",
    "    print(\"Correct Answer\")\n",
    "    score=score+10\n",
    "    print(\"Your Score is : \",score)\n",
    "else:\n",
    "    print(\"Enter the Correct input\")\n",
    "print(\"2:Who was the highest run getter in 2003 World Cup\\na.Sanath Jaysurya \\nb.Ricky Ponting \\nc.Sachin Tendulkar \\nd.Inzamam-Ul-Haq\")\n",
    "answer=str(input(\"Please input your option\"))\n",
    "if answer=='a' or answer=='b' or answer=='d':\n",
    "    print(\"Wrong Answer\")\n",
    "    score==score\n",
    "    print(\"Your Score is : \",score)\n",
    "elif answer=='c':\n",
    "    print(\"Correct Answer\")\n",
    "    score=score+10\n",
    "    print(\"Your Score is : \",score)\n",
    "else:\n",
    "    print(\"Enter the Correct input\")\n",
    "print(\"3:Who was the player of the tournament in 2011 World Cup\\na.Sachin Tendulkar \\nb.Ricky Ponting \\nc.Yuvraj Singh \\nd.Tilakratne Dilshan\")\n",
    "answer=str(input(\"Please input your option\"))\n",
    "if answer=='a' or answer=='b' or answer=='d':\n",
    "    print(\"Wrong Answer\")\n",
    "    score==score\n",
    "    print(\"Your Score is : \",score)\n",
    "elif answer=='c':\n",
    "    print(\"Correct Answer\")\n",
    "    score=score+10\n",
    "    print(\"Your Score is : \",score)\n",
    "else:\n",
    "    print(\"Enter the Correct input\")\n",
    "print(\"4:Who was the highest wicket taker in 2015 World Cup\\na.Jasprit Bumrah \\nb.Mitchell Starc \\nc.Lasith Malinga \\nd.Kagiso Rabada\")\n",
    "answer=str(input(\"Please input your option\"))\n",
    "if answer=='a' or answer=='c' or answer=='d':\n",
    "    print(\"Wrong Answer\")\n",
    "    score==score\n",
    "    print(\"Your Score is : \",score)\n",
    "elif answer=='b':\n",
    "    print(\"Correct Answer\")\n",
    "    score=score+10\n",
    "    print(\"Your Score is : \",score)\n",
    "else:\n",
    "    print(\"Enter the Correct input\")\n",
    "print(\"5:Which team was the runner up in 2019 World Cup\\na.England \\nb.Newzealand \\nc.India \\nd.Australia\")\n",
    "answer=str(input(\"Please input your option\"))\n",
    "if answer=='a' or answer=='c' or answer=='d':\n",
    "    print(\"Wrong Answer\")\n",
    "    score==score\n",
    "    print(\"Your Score is : \",score)\n",
    "elif answer=='b':\n",
    "    print(\"Correct Answer\")\n",
    "    score=score+10\n",
    "    print(\"Your Score is : \",score)\n",
    "else:\n",
    "    print(\"Enter the Correct input\")\n",
    "if score==50:\n",
    "    print(\"Congrats,You Scored Full Marks\")"
   ]
  },
  {
   "cell_type": "code",
   "execution_count": null,
   "id": "6e3da976-9da0-40c6-8931-6329a11b5325",
   "metadata": {},
   "outputs": [],
   "source": []
  },
  {
   "cell_type": "code",
   "execution_count": 21,
   "id": "4e3dd78a-275d-4cea-9653-32c37d0cdd7d",
   "metadata": {},
   "outputs": [],
   "source": [
    "##27.Develop a program that determines whether a given year is a prime number or not."
   ]
  },
  {
   "cell_type": "code",
   "execution_count": 26,
   "id": "938ce67a-d410-4c80-93ed-3e0468a8ab8a",
   "metadata": {},
   "outputs": [
    {
     "name": "stdin",
     "output_type": "stream",
     "text": [
      "Enter the Year 2027\n"
     ]
    },
    {
     "name": "stdout",
     "output_type": "stream",
     "text": [
      "Year is a prime number\n"
     ]
    }
   ],
   "source": [
    "year=int(input(\"Enter the Year\"))\n",
    "if year//1 and year//year:\n",
    "    print(\"Year is a prime number\")\n",
    "else:\n",
    "    print(\"Year is not a prime number\")"
   ]
  },
  {
   "cell_type": "markdown",
   "id": "b923711f-d65e-4044-9696-48c008b36d2a",
   "metadata": {
    "tags": []
   },
   "source": []
  },
  {
   "cell_type": "code",
   "execution_count": 27,
   "id": "3d3345bd-5fe0-4519-91d4-7ab8177147c9",
   "metadata": {},
   "outputs": [],
   "source": [
    "###28.Create a program that sorts three numbers in ascending order using conditional statements."
   ]
  },
  {
   "cell_type": "code",
   "execution_count": 35,
   "id": "c48a9202-740e-4f93-a7cb-e48962422678",
   "metadata": {},
   "outputs": [
    {
     "name": "stdin",
     "output_type": "stream",
     "text": [
      "Enter the First Number 6\n",
      "Enter the Second Number 2\n",
      "Enter the Third Number 8\n"
     ]
    },
    {
     "name": "stdout",
     "output_type": "stream",
     "text": [
      "Numbers in Sorted :  [2.0, 6.0, 8.0]\n"
     ]
    }
   ],
   "source": [
    "first=float(input(\"Enter the First Number\"))\n",
    "second=float(input(\"Enter the Second Number\"))\n",
    "third=float(input(\"Enter the Third Number\"))\n",
    "ascending=[]\n",
    "if first<second and first<third:\n",
    "    ascending.append(first)\n",
    "    if second<third:\n",
    "        ascending.append(second)\n",
    "        ascending.append(third)\n",
    "    else:\n",
    "        ascending.append(third)\n",
    "        ascending.append(second)\n",
    "elif second<third and second<first:\n",
    "    ascending.append(second)\n",
    "    if third<first:\n",
    "        ascending.append(third)\n",
    "        ascending.append(first)\n",
    "    else:\n",
    "        ascending.append(first)\n",
    "        ascending.append(third)\n",
    "elif third<first and third<second:\n",
    "    ascending.append(third)\n",
    "    if second<first:\n",
    "        ascending.append(second)\n",
    "        ascending.append(first)\n",
    "    else:\n",
    "        ascending.append(first)\n",
    "        ascending.append(second)\n",
    "print(\"Numbers in Sorted : \",ascending)"
   ]
  },
  {
   "cell_type": "code",
   "execution_count": null,
   "id": "1518caf1-08f8-4a2b-955e-94079039fded",
   "metadata": {},
   "outputs": [],
   "source": []
  },
  {
   "cell_type": "code",
   "execution_count": null,
   "id": "aea107e0-b5ab-42c7-96ca-9ce26879ac0e",
   "metadata": {},
   "outputs": [],
   "source": []
  },
  {
   "cell_type": "code",
   "execution_count": 36,
   "id": "4e5779dd-b1cc-4756-8536-1e6195c7d772",
   "metadata": {},
   "outputs": [],
   "source": [
    "##29.Build a program that determines the roots of a quartic equation using numerical methods"
   ]
  },
  {
   "cell_type": "code",
   "execution_count": 13,
   "id": "1ff3c8ff-39ef-4865-8cbd-305c59a6161a",
   "metadata": {},
   "outputs": [
    {
     "name": "stdin",
     "output_type": "stream",
     "text": [
      "Entert the value of a 4\n",
      "Entert the value of b 8\n",
      "Entert the value of c 3\n"
     ]
    },
    {
     "name": "stdout",
     "output_type": "stream",
     "text": [
      "Roots of the quadratic equation is : -0.4999999767694263\n"
     ]
    }
   ],
   "source": [
    "def quadratic_equation(a,b,c,epsilon=1e-6,max_iter=100):\n",
    "    x=0.0\n",
    "    for i in range(max_iter):\n",
    "        f_x=a*x**2+b*x+c\n",
    "        f_prime_x=2*a*x+b\n",
    "        if abs(f_x)<epsilon:\n",
    "            return x\n",
    "        x=x-f_x/f_prime_x\n",
    "    return None\n",
    "a=int(input(\"Entert the value of a\"))\n",
    "b=int(input(\"Entert the value of b\"))\n",
    "c=int(input(\"Entert the value of c\"))\n",
    "root=quadratic_equation(a,b,c)\n",
    "if root is not None:\n",
    "    print(f\"Roots of the quadratic equation is : {root}\")\n",
    "else:\n",
    "    print(\"No convergence within the given iterations\")"
   ]
  },
  {
   "cell_type": "code",
   "execution_count": null,
   "id": "66c820a8-3c49-40a5-8cb5-b83434372d97",
   "metadata": {},
   "outputs": [],
   "source": []
  },
  {
   "cell_type": "code",
   "execution_count": null,
   "id": "bfac9567-3bbf-4b5a-bc6f-bae3212dd4a3",
   "metadata": {},
   "outputs": [],
   "source": []
  },
  {
   "cell_type": "code",
   "execution_count": 39,
   "id": "8f99dbf2-2b9f-4024-abcd-c41ddb3f9f8b",
   "metadata": {},
   "outputs": [],
   "source": [
    "##30.Write a program that calculates the BMI and provides health rcommendations based on the user's input"
   ]
  },
  {
   "cell_type": "code",
   "execution_count": 43,
   "id": "2cc172d6-36ef-46d4-b97b-de7abe61b38e",
   "metadata": {},
   "outputs": [
    {
     "name": "stdin",
     "output_type": "stream",
     "text": [
      "Enter your Height in Meters 1.7\n",
      "Enter your Weight in Kilograms 67\n"
     ]
    },
    {
     "name": "stdout",
     "output_type": "stream",
     "text": [
      "Normal Weight\n"
     ]
    }
   ],
   "source": [
    "height=float(input(\"Enter your Height in Meters\"))\n",
    "weight=float(input(\"Enter your Weight in Kilograms\"))\n",
    "BMI=weight/(height**2)\n",
    "if BMI>=30:\n",
    "    print(\"Obesity\")\n",
    "elif BMI>=25 and BMI<30:\n",
    "    print(\"Over Weight\")\n",
    "elif BMI>=18.5 and BMI<24.9:\n",
    "    print(\"Normal Weight\")\n",
    "else:\n",
    "    print(\"Under Weight\")"
   ]
  },
  {
   "cell_type": "code",
   "execution_count": null,
   "id": "898acc49-7dbc-4c53-860a-6c7c04dd8d6b",
   "metadata": {},
   "outputs": [],
   "source": []
  },
  {
   "cell_type": "code",
   "execution_count": 44,
   "id": "dcbe7535-7493-4646-9ac5-51f7e5b95873",
   "metadata": {},
   "outputs": [],
   "source": [
    "##31.Create a program that validates a password based on complexity rules(length,characters etc)"
   ]
  },
  {
   "cell_type": "code",
   "execution_count": 47,
   "id": "08008655-cd65-4d74-a3c4-f80b31dccdd7",
   "metadata": {},
   "outputs": [
    {
     "name": "stdout",
     "output_type": "stream",
     "text": [
      "Valid Password\n"
     ]
    }
   ],
   "source": [
    "lower_case=0\n",
    "upper_case=0\n",
    "digit=0\n",
    "character=0\n",
    "s = \"Shivank@12345\"\n",
    "capital_alphabets=\"ABCDEFGHIJKLMNOPQRSTUVWXYZ\"\n",
    "small_alphabets=\"abcdefghijklmnopqrstuvwxyz\"\n",
    "special_character=\"$@_\"\n",
    "digits=\"0123456789\"\n",
    "if (len(s) >= 8):\n",
    "    for i in s:\n",
    "        if (i in small_alphabets):\n",
    "            lower_case=lower_case+1\n",
    "        if (i in capital_alphabets):\n",
    "            upper_case=upper_case+1\n",
    "        if (i in digits):\n",
    "            digit=digit+1\n",
    "        if (i in special_character):\n",
    "            character=character+1       \n",
    "if (lower_case>=1 and upper_case>=1 and digit>=1 and character>=1 and lower_case+upper_case+digit+character==len(s)):\n",
    "    print(\"Valid Password\")\n",
    "else:\n",
    "    print(\"Invalid Password\")"
   ]
  },
  {
   "cell_type": "code",
   "execution_count": null,
   "id": "f2d8ba32-c6da-48cf-bca0-37eaa9c112bf",
   "metadata": {},
   "outputs": [],
   "source": []
  },
  {
   "cell_type": "code",
   "execution_count": 48,
   "id": "5953f23c-13f3-4218-9535-a9efc4f9fcca",
   "metadata": {},
   "outputs": [],
   "source": [
    "##32.Develop a program that performs matrix addition and subtraction based on user input."
   ]
  },
  {
   "cell_type": "code",
   "execution_count": 2,
   "id": "037a5b1c-911b-47eb-883f-3ab77eaaa8b6",
   "metadata": {},
   "outputs": [
    {
     "name": "stdout",
     "output_type": "stream",
     "text": [
      "Pleas enter 1 for Addition \n",
      "2 for Subtraction\n"
     ]
    },
    {
     "name": "stdin",
     "output_type": "stream",
     "text": [
      "Enter the Input 1\n"
     ]
    },
    {
     "name": "stdout",
     "output_type": "stream",
     "text": [
      "Addition of two matrices\n",
      "2 4 6 8 "
     ]
    }
   ],
   "source": [
    "matrix1 = [[1, 2], [3, 4]]\n",
    "matrix2 = [[1, 2], [3, 4]]\n",
    "matrix3 = [[0, 0], [0, 0]]\n",
    "print(\"Pleas enter 1 for Addition \\n2 for Subtraction\")\n",
    "enter=int(input(\"Enter the Input\"))\n",
    "if enter==1:\n",
    "    for i in range(0, 2):\n",
    "        for j in range(0, 2):\n",
    "            matrix3[i][j] = matrix1[i][j] + matrix2[i][j]\n",
    "    print(\"Addition of two matrices\")\n",
    "    for i in range(0, 2):\n",
    "        for j in range(0, 2):\n",
    "            print(matrix3[i][j], end = \" \")\n",
    "elif enter==2:\n",
    "    for i in range(0, 2):\n",
    "        for j in range(0, 2):\n",
    "            matrix3[i][j] = matrix1[i][j] - matrix2[i][j]\n",
    "    print(\"\\nSubtraction of two matrices\")\n",
    "    for i in range(0, 2):\n",
    "        for j in range(0, 2):\n",
    "            print(matrix3[i][j], end = \" \")\n",
    "else:\n",
    "    print(\"Enter the corrrect Input\")"
   ]
  },
  {
   "cell_type": "code",
   "execution_count": null,
   "id": "552c0cb7-d96b-41dd-9988-058bf77c51df",
   "metadata": {},
   "outputs": [],
   "source": []
  },
  {
   "cell_type": "code",
   "execution_count": 3,
   "id": "bd5611e3-cb52-45e2-a768-471cd5cf9ced",
   "metadata": {},
   "outputs": [],
   "source": [
    "###33.Write a program that calcuates the greatest common divisor of two numbers using the Euclidean algorithm."
   ]
  },
  {
   "cell_type": "code",
   "execution_count": 8,
   "id": "095f09fe-64d7-417e-af60-ff5fa2b5dacd",
   "metadata": {},
   "outputs": [
    {
     "name": "stdout",
     "output_type": "stream",
     "text": [
      "GCD of 54 and 36 is 18\n"
     ]
    }
   ],
   "source": [
    "def GCD(a,b):\n",
    "    if (a == 0):\n",
    "        return b\n",
    "    if (b == 0):\n",
    "        return a\n",
    "    if (a == b):\n",
    "        return a\n",
    "    if (a > b):\n",
    "        return GCD(a-b,b)\n",
    "    return GCD(a, b-a)\n",
    "a = 54\n",
    "b = 36\n",
    "if(GCD(a,b)):\n",
    "    print('GCD of', a, 'and', b, 'is', GCD(a, b))\n",
    "else:\n",
    "    print('Not Found')"
   ]
  },
  {
   "cell_type": "code",
   "execution_count": null,
   "id": "364fc7c5-a2b7-4f5f-9564-66a44fd852d1",
   "metadata": {},
   "outputs": [],
   "source": []
  },
  {
   "cell_type": "code",
   "execution_count": 9,
   "id": "13bd6b9c-00dc-4277-b022-033a02332764",
   "metadata": {},
   "outputs": [],
   "source": [
    "##34.Build a program that performs matrix multiplication using nested loops and conditional statements."
   ]
  },
  {
   "cell_type": "code",
   "execution_count": 12,
   "id": "caf25752-4792-4d22-aa2a-8e358dcf9b37",
   "metadata": {},
   "outputs": [
    {
     "name": "stdout",
     "output_type": "stream",
     "text": [
      "[114, 160, 60, 27]\n",
      "[74, 97, 73, 14]\n",
      "[119, 157, 112, 23]\n"
     ]
    }
   ],
   "source": [
    "x = [[12,7,3],\n",
    "    [4 ,5,6],\n",
    "    [7 ,8,9]]\n",
    "y = [[5,8,1,2],\n",
    "    [6,7,3,0],\n",
    "    [4,5,9,1]]\n",
    "result = [[0,0,0,0],\n",
    "         [0,0,0,0],\n",
    "         [0,0,0,0]]\n",
    "for i in range(len(x)):\n",
    "    for j in range(len(y[0])):\n",
    "        for k in range(len(y)):\n",
    "            result[i][j] = result[i][j]+x[i][k] * y[k][j]\n",
    "for l in result:\n",
    "    print(l)"
   ]
  },
  {
   "cell_type": "code",
   "execution_count": null,
   "id": "a23a709c-3ed8-424c-8fdf-395d6c539d6e",
   "metadata": {},
   "outputs": [],
   "source": []
  },
  {
   "cell_type": "code",
   "execution_count": 13,
   "id": "0fc65515-2a43-4fbb-b6e8-bdbe00898b38",
   "metadata": {},
   "outputs": [],
   "source": [
    "##35.Create a program that simulates a basic text based tic tac toe game against the computer."
   ]
  },
  {
   "cell_type": "code",
   "execution_count": 47,
   "id": "c4d8c128-dacb-4c1d-a857-d2e197faa443",
   "metadata": {},
   "outputs": [
    {
     "name": "stdout",
     "output_type": "stream",
     "text": [
      "Player 1 [X] --- Player 2 [O]\n",
      "\n",
      "\n",
      "\n",
      "Please Wait...\n",
      "   |   |   \n",
      "------------\n",
      "   |   |   \n",
      "------------\n",
      "   |   |   \n",
      "============\n",
      "Player 1's chance\n"
     ]
    },
    {
     "name": "stdin",
     "output_type": "stream",
     "text": [
      "Enter the position between [1-9] where you want to mark:  6\n"
     ]
    },
    {
     "name": "stdout",
     "output_type": "stream",
     "text": [
      "   |   |   \n",
      "------------\n",
      "   |   | X \n",
      "------------\n",
      "   |   |   \n",
      "============\n",
      "   |   |   \n",
      "------------\n",
      "   |   | X \n",
      "------------\n",
      "   |   |   \n",
      "============\n",
      "Player 2's chance\n"
     ]
    },
    {
     "name": "stdin",
     "output_type": "stream",
     "text": [
      "Enter the position between [1-9] where you want to mark:  1\n"
     ]
    },
    {
     "name": "stdout",
     "output_type": "stream",
     "text": [
      " O |   |   \n",
      "------------\n",
      "   |   | X \n",
      "------------\n",
      "   |   |   \n",
      "============\n",
      " O |   |   \n",
      "------------\n",
      "   |   | X \n",
      "------------\n",
      "   |   |   \n",
      "============\n",
      "Player 1's chance\n"
     ]
    },
    {
     "name": "stdin",
     "output_type": "stream",
     "text": [
      "Enter the position between [1-9] where you want to mark:  5\n"
     ]
    },
    {
     "name": "stdout",
     "output_type": "stream",
     "text": [
      " O |   |   \n",
      "------------\n",
      "   | X | X \n",
      "------------\n",
      "   |   |   \n",
      "============\n",
      " O |   |   \n",
      "------------\n",
      "   | X | X \n",
      "------------\n",
      "   |   |   \n",
      "============\n",
      "Player 2's chance\n"
     ]
    },
    {
     "name": "stdin",
     "output_type": "stream",
     "text": [
      "Enter the position between [1-9] where you want to mark:  3\n"
     ]
    },
    {
     "name": "stdout",
     "output_type": "stream",
     "text": [
      " O |   | O \n",
      "------------\n",
      "   | X | X \n",
      "------------\n",
      "   |   |   \n",
      "============\n",
      " O |   | O \n",
      "------------\n",
      "   | X | X \n",
      "------------\n",
      "   |   |   \n",
      "============\n",
      "Player 1's chance\n"
     ]
    },
    {
     "name": "stdin",
     "output_type": "stream",
     "text": [
      "Enter the position between [1-9] where you want to mark:  9\n"
     ]
    },
    {
     "name": "stdout",
     "output_type": "stream",
     "text": [
      " O |   | O \n",
      "------------\n",
      "   | X | X \n",
      "------------\n",
      "   |   | X \n",
      "============\n",
      " O |   | O \n",
      "------------\n",
      "   | X | X \n",
      "------------\n",
      "   |   | X \n",
      "============\n",
      "Player 2's chance\n"
     ]
    },
    {
     "name": "stdin",
     "output_type": "stream",
     "text": [
      "Enter the position between [1-9] where you want to mark:  1\n"
     ]
    },
    {
     "name": "stdout",
     "output_type": "stream",
     "text": [
      " O |   | O \n",
      "------------\n",
      "   | X | X \n",
      "------------\n",
      "   |   | X \n",
      "============\n",
      " O |   | O \n",
      "------------\n",
      "   | X | X \n",
      "------------\n",
      "   |   | X \n",
      "============\n",
      "Player 2's chance\n"
     ]
    },
    {
     "name": "stdin",
     "output_type": "stream",
     "text": [
      "Enter the position between [1-9] where you want to mark:  4\n"
     ]
    },
    {
     "name": "stdout",
     "output_type": "stream",
     "text": [
      " O |   | O \n",
      "------------\n",
      " O | X | X \n",
      "------------\n",
      "   |   | X \n",
      "============\n",
      " O |   | O \n",
      "------------\n",
      " O | X | X \n",
      "------------\n",
      "   |   | X \n",
      "============\n",
      "Player 1's chance\n"
     ]
    },
    {
     "name": "stdin",
     "output_type": "stream",
     "text": [
      "Enter the position between [1-9] where you want to mark:  4\n"
     ]
    },
    {
     "name": "stdout",
     "output_type": "stream",
     "text": [
      " O |   | O \n",
      "------------\n",
      " O | X | X \n",
      "------------\n",
      "   |   | X \n",
      "============\n",
      " O |   | O \n",
      "------------\n",
      " O | X | X \n",
      "------------\n",
      "   |   | X \n",
      "============\n",
      "Player 1's chance\n"
     ]
    },
    {
     "name": "stdin",
     "output_type": "stream",
     "text": [
      "Enter the position between [1-9] where you want to mark:  0\n"
     ]
    },
    {
     "name": "stdout",
     "output_type": "stream",
     "text": [
      " O |   | O \n",
      "------------\n",
      " O | X | X \n",
      "------------\n",
      "   |   | X \n",
      "============\n",
      " O |   | O \n",
      "------------\n",
      " O | X | X \n",
      "------------\n",
      "   |   | X \n",
      "============\n",
      "Player 2's chance\n"
     ]
    },
    {
     "ename": "KeyboardInterrupt",
     "evalue": "Interrupted by user",
     "output_type": "error",
     "traceback": [
      "\u001b[0;31m---------------------------------------------------------------------------\u001b[0m",
      "\u001b[0;31mKeyboardInterrupt\u001b[0m                         Traceback (most recent call last)",
      "Cell \u001b[0;32mIn[47], line 59\u001b[0m\n\u001b[1;32m     57\u001b[0m     \u001b[38;5;28mprint\u001b[39m(\u001b[38;5;124m\"\u001b[39m\u001b[38;5;124mPlayer 2\u001b[39m\u001b[38;5;124m'\u001b[39m\u001b[38;5;124ms chance\u001b[39m\u001b[38;5;124m\"\u001b[39m)\n\u001b[1;32m     58\u001b[0m     Mark \u001b[38;5;241m=\u001b[39m \u001b[38;5;124m'\u001b[39m\u001b[38;5;124mO\u001b[39m\u001b[38;5;124m'\u001b[39m\n\u001b[0;32m---> 59\u001b[0m choice \u001b[38;5;241m=\u001b[39m \u001b[38;5;28mint\u001b[39m(\u001b[38;5;28;43minput\u001b[39;49m\u001b[43m(\u001b[49m\u001b[38;5;124;43m\"\u001b[39;49m\u001b[38;5;124;43mEnter the position between [1-9] where you want to mark: \u001b[39;49m\u001b[38;5;124;43m\"\u001b[39;49m\u001b[43m)\u001b[49m)\n\u001b[1;32m     60\u001b[0m \u001b[38;5;28;01mif\u001b[39;00m CheckPosition(choice):\n\u001b[1;32m     61\u001b[0m     board[choice] \u001b[38;5;241m=\u001b[39m Mark\n",
      "File \u001b[0;32m/opt/conda/lib/python3.10/site-packages/ipykernel/kernelbase.py:1175\u001b[0m, in \u001b[0;36mKernel.raw_input\u001b[0;34m(self, prompt)\u001b[0m\n\u001b[1;32m   1171\u001b[0m \u001b[38;5;28;01mif\u001b[39;00m \u001b[38;5;129;01mnot\u001b[39;00m \u001b[38;5;28mself\u001b[39m\u001b[38;5;241m.\u001b[39m_allow_stdin:\n\u001b[1;32m   1172\u001b[0m     \u001b[38;5;28;01mraise\u001b[39;00m StdinNotImplementedError(\n\u001b[1;32m   1173\u001b[0m         \u001b[38;5;124m\"\u001b[39m\u001b[38;5;124mraw_input was called, but this frontend does not support input requests.\u001b[39m\u001b[38;5;124m\"\u001b[39m\n\u001b[1;32m   1174\u001b[0m     )\n\u001b[0;32m-> 1175\u001b[0m \u001b[38;5;28;01mreturn\u001b[39;00m \u001b[38;5;28;43mself\u001b[39;49m\u001b[38;5;241;43m.\u001b[39;49m\u001b[43m_input_request\u001b[49m\u001b[43m(\u001b[49m\n\u001b[1;32m   1176\u001b[0m \u001b[43m    \u001b[49m\u001b[38;5;28;43mstr\u001b[39;49m\u001b[43m(\u001b[49m\u001b[43mprompt\u001b[49m\u001b[43m)\u001b[49m\u001b[43m,\u001b[49m\n\u001b[1;32m   1177\u001b[0m \u001b[43m    \u001b[49m\u001b[38;5;28;43mself\u001b[39;49m\u001b[38;5;241;43m.\u001b[39;49m\u001b[43m_parent_ident\u001b[49m\u001b[43m[\u001b[49m\u001b[38;5;124;43m\"\u001b[39;49m\u001b[38;5;124;43mshell\u001b[39;49m\u001b[38;5;124;43m\"\u001b[39;49m\u001b[43m]\u001b[49m\u001b[43m,\u001b[49m\n\u001b[1;32m   1178\u001b[0m \u001b[43m    \u001b[49m\u001b[38;5;28;43mself\u001b[39;49m\u001b[38;5;241;43m.\u001b[39;49m\u001b[43mget_parent\u001b[49m\u001b[43m(\u001b[49m\u001b[38;5;124;43m\"\u001b[39;49m\u001b[38;5;124;43mshell\u001b[39;49m\u001b[38;5;124;43m\"\u001b[39;49m\u001b[43m)\u001b[49m\u001b[43m,\u001b[49m\n\u001b[1;32m   1179\u001b[0m \u001b[43m    \u001b[49m\u001b[43mpassword\u001b[49m\u001b[38;5;241;43m=\u001b[39;49m\u001b[38;5;28;43;01mFalse\u001b[39;49;00m\u001b[43m,\u001b[49m\n\u001b[1;32m   1180\u001b[0m \u001b[43m\u001b[49m\u001b[43m)\u001b[49m\n",
      "File \u001b[0;32m/opt/conda/lib/python3.10/site-packages/ipykernel/kernelbase.py:1217\u001b[0m, in \u001b[0;36mKernel._input_request\u001b[0;34m(self, prompt, ident, parent, password)\u001b[0m\n\u001b[1;32m   1214\u001b[0m             \u001b[38;5;28;01mbreak\u001b[39;00m\n\u001b[1;32m   1215\u001b[0m \u001b[38;5;28;01mexcept\u001b[39;00m \u001b[38;5;167;01mKeyboardInterrupt\u001b[39;00m:\n\u001b[1;32m   1216\u001b[0m     \u001b[38;5;66;03m# re-raise KeyboardInterrupt, to truncate traceback\u001b[39;00m\n\u001b[0;32m-> 1217\u001b[0m     \u001b[38;5;28;01mraise\u001b[39;00m \u001b[38;5;167;01mKeyboardInterrupt\u001b[39;00m(\u001b[38;5;124m\"\u001b[39m\u001b[38;5;124mInterrupted by user\u001b[39m\u001b[38;5;124m\"\u001b[39m) \u001b[38;5;28;01mfrom\u001b[39;00m \u001b[38;5;28mNone\u001b[39m\n\u001b[1;32m   1218\u001b[0m \u001b[38;5;28;01mexcept\u001b[39;00m \u001b[38;5;167;01mException\u001b[39;00m:\n\u001b[1;32m   1219\u001b[0m     \u001b[38;5;28mself\u001b[39m\u001b[38;5;241m.\u001b[39mlog\u001b[38;5;241m.\u001b[39mwarning(\u001b[38;5;124m\"\u001b[39m\u001b[38;5;124mInvalid Message:\u001b[39m\u001b[38;5;124m\"\u001b[39m, exc_info\u001b[38;5;241m=\u001b[39m\u001b[38;5;28;01mTrue\u001b[39;00m)\n",
      "\u001b[0;31mKeyboardInterrupt\u001b[0m: Interrupted by user"
     ]
    }
   ],
   "source": [
    "import time\n",
    "board = [' ', ' ', ' ', ' ', ' ', ' ', ' ', ' ', ' ', ' ']\n",
    "player = 1\n",
    "Win = 1\n",
    "Draw = -1\n",
    "Running = 0\n",
    "Stop = 1\n",
    "Game = Running\n",
    "def DrawBoard():\n",
    "    print(\" %c | %c | %c \" % (board[1], board[2], board[3]))\n",
    "    print(\"------------\")\n",
    "    print(\" %c | %c | %c \" % (board[4], board[5], board[6]))\n",
    "    print(\"------------\")\n",
    "    print(\" %c | %c | %c \" % (board[7], board[8], board[9]))\n",
    "    print(\"============\")\n",
    "def CheckPosition(x):\n",
    "    if board[x] == ' ':\n",
    "        return True\n",
    "    else:\n",
    "        return False\n",
    "def CheckWin():\n",
    "    global Game\n",
    "    if board[1] == board[2] and board[2] == board[3] and board[1] != ' ':\n",
    "        Game = Win\n",
    "    elif board[4] == board[5] and board[5] == board[6] and board[4] != ' ':\n",
    "        Game = Win\n",
    "    elif board[7] == board[8] and board[8] == board[9] and board[7] != ' ':\n",
    "        Game = Win\n",
    "    elif board[1] == board[4] and board[4] == board[7] and board[1] != ' ':\n",
    "        Game = Win\n",
    "    elif board[2] == board[5] and board[5] == board[8] and board[2] != ' ':\n",
    "        Game = Win\n",
    "    elif board[3] == board[6] and board[6] == board[9] and board[3] != ' ':\n",
    "        Game = Win\n",
    "    elif board[1] == board[5] and board[5] == board[9] and board[5] != ' ':\n",
    "        Game = Win\n",
    "    elif board[3] == board[5] and board[5] == board[7] and board[5] != ' ':\n",
    "        Game = Win\n",
    "    elif board[1] != ' ' and board[2] != ' ' and board[3] != ' ' and \\\n",
    "            board[4] != ' ' and board[5] != ' ' and board[6] != ' ' and \\\n",
    "            board[7] != ' ' and board[8] != ' ' and board[9] != ' ':\n",
    "        Game = Draw\n",
    "    else:\n",
    "        Game = Running\n",
    "print(\"Player 1 [X] --- Player 2 [O]\\n\")\n",
    "print()\n",
    "print()\n",
    "print(\"Please Wait...\")\n",
    "time.sleep(3)\n",
    "while Game == Running:\n",
    "    DrawBoard()\n",
    "    if player % 2 != 0:\n",
    "        print(\"Player 1's chance\")\n",
    "        Mark = 'X'\n",
    "    else:\n",
    "        print(\"Player 2's chance\")\n",
    "        Mark = 'O'\n",
    "    choice = int(input(\"Enter the position between [1-9] where you want to mark: \"))\n",
    "    if CheckPosition(choice):\n",
    "        board[choice] = Mark\n",
    "        player = player+1\n",
    "        CheckWin()\n",
    "    DrawBoard()\n",
    "    if Game == Draw:\n",
    "        print(\"Game Draw\")\n",
    "    elif Game == Win:\n",
    "        player = player-1\n",
    "        if player % 2 != 0:\n",
    "            print(\"Player 1 Won\")\n",
    "        else:\n",
    "            print(\"Player 2 Won\")"
   ]
  },
  {
   "cell_type": "code",
   "execution_count": null,
   "id": "ede4f5ca-1be0-4a8c-843c-079d4a2866c7",
   "metadata": {},
   "outputs": [],
   "source": []
  },
  {
   "cell_type": "code",
   "execution_count": 1,
   "id": "5ec86ddc-4a66-41b6-befb-68f5b72cac68",
   "metadata": {},
   "outputs": [],
   "source": [
    "##36.Write a program that generates a fibonacci numbers up to a specified term using iterative methods."
   ]
  },
  {
   "cell_type": "code",
   "execution_count": 2,
   "id": "ff95ba66-9162-435c-92c6-04f6fb0a2aa2",
   "metadata": {},
   "outputs": [
    {
     "name": "stdin",
     "output_type": "stream",
     "text": [
      "Enter the limit 50\n"
     ]
    },
    {
     "name": "stdout",
     "output_type": "stream",
     "text": [
      "Fibonacci Series upto specified number :  [0, 1, 1, 2, 3, 5, 8, 13, 21, 34]\n"
     ]
    }
   ],
   "source": [
    "def PrintFibonacci(limit):\n",
    "    fibonacci_sequence=[0,1]\n",
    "    while True:\n",
    "        next_fibonacci=fibonacci_sequence[-1]+fibonacci_sequence[-2]\n",
    "        if next_fibonacci<=limit:\n",
    "            fibonacci_sequence.append(next_fibonacci)\n",
    "        else:\n",
    "            break\n",
    "    return fibonacci_sequence\n",
    "limit=int(input(\"Enter the limit\"))\n",
    "result=PrintFibonacci(limit)\n",
    "print(\"Fibonacci Series upto specified number : \",result)"
   ]
  },
  {
   "cell_type": "code",
   "execution_count": null,
   "id": "4a2126e5-8bd3-4d8a-a840-b37b2f3187dc",
   "metadata": {},
   "outputs": [],
   "source": []
  },
  {
   "cell_type": "code",
   "execution_count": 21,
   "id": "bd3de5b3-d91b-4927-9014-e84f63faa476",
   "metadata": {},
   "outputs": [],
   "source": [
    "##37.Develop a program that calculates the nth term of the fibonacci sequence using memoization."
   ]
  },
  {
   "cell_type": "code",
   "execution_count": 43,
   "id": "f57b748b-8646-4e92-ae10-c667da66927b",
   "metadata": {},
   "outputs": [
    {
     "name": "stdin",
     "output_type": "stream",
     "text": [
      "Enter the value 60\n"
     ]
    },
    {
     "name": "stdout",
     "output_type": "stream",
     "text": [
      "nth term is :  1548008755920\n"
     ]
    }
   ],
   "source": [
    "def memoization_fib(n, memo={}):\n",
    "    if n in memo:\n",
    "        return memo[n]\n",
    "    if n <= 2:\n",
    "        return 1\n",
    "\n",
    "    memo[n] = memoization_fib(n - 1, memo) + memoization_fib(n - 2, memo)\n",
    "    return memo[n]\n",
    "n=int(input(\"Enter the value\"))\n",
    "nth_term=memoization_fib(n)\n",
    "print(\"nth term is : \",nth_term)"
   ]
  },
  {
   "cell_type": "code",
   "execution_count": null,
   "id": "d206486e-9211-44bd-bb8c-e2f84717e25c",
   "metadata": {},
   "outputs": [],
   "source": []
  },
  {
   "cell_type": "code",
   "execution_count": 22,
   "id": "621604bc-661b-45ad-ac00-8998acc3a410",
   "metadata": {},
   "outputs": [],
   "source": [
    "##38.Create a program that generates a calendar for a given month and year using conditional statements."
   ]
  },
  {
   "cell_type": "code",
   "execution_count": 49,
   "id": "a4de3185-bd70-41af-92a7-98a88a15d55d",
   "metadata": {},
   "outputs": [
    {
     "name": "stdout",
     "output_type": "stream",
     "text": [
      "    November 2023\n",
      "Su Mo Tu We Th Fr Sa\n",
      "          1  2  3  4 \n",
      " 5  6  7  8  9 10 11 \n",
      "12 13 14 15 16 17 18 \n",
      "19 20 21 22 23 24 25 \n",
      "26 27 28 29 30 "
     ]
    }
   ],
   "source": [
    "def print_calendar(month, year):\n",
    "    months = {1: 'January', 2: 'February', 3: 'March', 4: 'April', 5: 'May', 6: 'June', 7: 'July', 8: 'August',\n",
    "              9: 'September', 10: 'October', 11: 'November', 12: 'December'}\n",
    "    monthdays = {'January': 31, 'March': 31, 'April': 30, 'May': 31, 'June': 30, 'July': 31, 'August': 31,\n",
    "                 'September': 30, 'October': 31, 'November': 30, 'December': 31}\n",
    "    month = int(month)\n",
    "    year = int(year)\n",
    "    if (year % 4) == 0 and (year % 100) != 0 or (year % 400) == 0:\n",
    "        monthdays['February'] = 29\n",
    "    else:\n",
    "        monthdays['February'] = 28\n",
    "    if 1 <= month <= 2:\n",
    "        year = year-1\n",
    "    if month < 3:\n",
    "        a = month + 10\n",
    "    else:\n",
    "        a = month - 2\n",
    "    b = 1\n",
    "    c = year % 100\n",
    "    d = year // 100\n",
    "    w = (13 * a - 1) // 5\n",
    "    x = c // 4\n",
    "    y = d // 4\n",
    "    z = w + x + y + b + c - 2 * d\n",
    "    r = z % 7\n",
    "    r = (r + 7) % 7\n",
    "    space = ' '\n",
    "    print(space * 4 + months[month] + space + str(year))\n",
    "    print(\"Su Mo Tu We Th Fr Sa\")\n",
    "    number = monthdays[months[month]]\n",
    "    start_days = r\n",
    "    for i in range(1, number + 1):\n",
    "        if i == 1:\n",
    "            print((space * 3) * start_days, end='')\n",
    "        if i < 10:\n",
    "            print('', i, end=' ')\n",
    "        elif i >= 10:\n",
    "            print(i, end=' ')\n",
    "        if (i + start_days) % 7 == 0:\n",
    "            print('\\n', end='')\n",
    "print_calendar('11', '2023')"
   ]
  },
  {
   "cell_type": "code",
   "execution_count": 23,
   "id": "c765bbb9-44fb-414b-bdc8-6698175df34a",
   "metadata": {},
   "outputs": [],
   "source": [
    "##39.Build a program that simulates a basic text based blackjack game against the computer."
   ]
  },
  {
   "cell_type": "code",
   "execution_count": 1,
   "id": "20f2267f-e215-422d-99e3-7c5e44b1d099",
   "metadata": {},
   "outputs": [
    {
     "name": "stdout",
     "output_type": "stream",
     "text": [
      "Cards Player Has: [('Ace', 'Clubs'), ('4', 'Clubs')]\n",
      "Score Of The Player: 15\n",
      "\n",
      "\n"
     ]
    },
    {
     "name": "stdin",
     "output_type": "stream",
     "text": [
      "What do you want? [\"play\" to request another card, \"stop\" to stop]:  play\n"
     ]
    },
    {
     "name": "stdout",
     "output_type": "stream",
     "text": [
      "Cards Player Has: [('Ace', 'Clubs'), ('4', 'Clubs'), ('7', 'Diamonds')]\n",
      "Score Of The Player: 22\n",
      "\n",
      "\n"
     ]
    },
    {
     "name": "stdin",
     "output_type": "stream",
     "text": [
      "What do you want? [\"play\" to request another card, \"stop\" to stop]:  play\n"
     ]
    },
    {
     "name": "stdout",
     "output_type": "stream",
     "text": [
      "Cards Dealer Has: [('Ace', 'Hearts'), ('7', 'Spades')]\n",
      "Score Of The Dealer: 18\n",
      "Cards Player Has: [('Ace', 'Clubs'), ('4', 'Clubs'), ('7', 'Diamonds'), ('8', 'Diamonds')]\n",
      "Score Of The Player: 22\n",
      "Dealer wins (Player Loss Because Player Score is exceeding 21)\n",
      "Cards Dealer Has: [('Ace', 'Hearts'), ('7', 'Spades')]\n",
      "Score Of The Dealer: 18\n",
      "\n",
      "\n",
      "Cards Dealer Has: [('Ace', 'Hearts'), ('7', 'Spades')]\n",
      "Score Of The Dealer: 18\n",
      "Cards Player Has: [('Ace', 'Clubs'), ('4', 'Clubs'), ('7', 'Diamonds'), ('8', 'Diamonds')]\n",
      "Score Of The Player: 22\n",
      "Player wins (Player Has High Score than Dealer)\n"
     ]
    }
   ],
   "source": [
    "import random \n",
    "card_categories = ['Hearts', 'Diamonds', 'Clubs', 'Spades'] \n",
    "cards_list = ['Ace', '2', '3', '4', '5', '6', '7', '8', '9', '10', 'Jack', 'Queen', 'King'] \n",
    "deck = [(card, category) for category in card_categories for card in cards_list] \n",
    "\n",
    "def card_value(card):\n",
    "    if card[0] in ['Jack', 'Queen', 'King']: \n",
    "        return 10\n",
    "    elif card[0] == 'Ace': \n",
    "        return 11\n",
    "    else: \n",
    "        return int(card[0]) \n",
    "random.shuffle(deck) \n",
    "player_card = [deck.pop(), deck.pop()] \n",
    "dealer_card = [deck.pop(), deck.pop()] \n",
    "  \n",
    "while True: \n",
    "    player_score = sum(card_value(card) for card in player_card) \n",
    "    dealer_score = sum(card_value(card) for card in dealer_card) \n",
    "    print(\"Cards Player Has:\", player_card) \n",
    "    print(\"Score Of The Player:\", player_score) \n",
    "    print(\"\\n\") \n",
    "    choice = input('What do you want? [\"play\" to request another card, \"stop\" to stop]: ').lower() \n",
    "    if choice == \"play\": \n",
    "        new_card = deck.pop() \n",
    "        player_card.append(new_card) \n",
    "    elif choice == \"stop\": \n",
    "        break\n",
    "    else: \n",
    "        print(\"Invalid choice. Please try again.\") \n",
    "        continue\n",
    "  \n",
    "    if player_score > 21: \n",
    "        print(\"Cards Dealer Has:\", dealer_card) \n",
    "        print(\"Score Of The Dealer:\", dealer_score) \n",
    "        print(\"Cards Player Has:\", player_card) \n",
    "        print(\"Score Of The Player:\", player_score) \n",
    "        print(\"Dealer wins (Player Loss Because Player Score is exceeding 21)\") \n",
    "        break\n",
    "while dealer_score < 17: \n",
    "    new_card = deck.pop() \n",
    "    dealer_card.append(new_card) \n",
    "    dealer_score += card_value(new_card) \n",
    "print(\"Cards Dealer Has:\", dealer_card) \n",
    "print(\"Score Of The Dealer:\", dealer_score) \n",
    "print(\"\\n\") \n",
    "  \n",
    "if dealer_score > 21: \n",
    "    print(\"Cards Dealer Has:\", dealer_card) \n",
    "    print(\"Score Of The Dealer:\", dealer_score) \n",
    "    print(\"Cards Player Has:\", player_card) \n",
    "    print(\"Score Of The Player:\", player_score) \n",
    "    print(\"Player wins (Dealer Loss Because Dealer Score is exceeding 21)\") \n",
    "elif player_score > dealer_score: \n",
    "    print(\"Cards Dealer Has:\", dealer_card) \n",
    "    print(\"Score Of The Dealer:\", dealer_score) \n",
    "    print(\"Cards Player Has:\", player_card) \n",
    "    print(\"Score Of The Player:\", player_score) \n",
    "    print(\"Player wins (Player Has High Score than Dealer)\") \n",
    "elif dealer_score > player_score: \n",
    "    print(\"Cards Dealer Has:\", dealer_card) \n",
    "    print(\"Score Of The Dealer:\", dealer_score) \n",
    "    print(\"Cards Player Has:\", player_card) \n",
    "    print(\"Score Of The Player:\", player_score) \n",
    "    print(\"Dealer wins (Dealer Has High Score than Player)\") \n",
    "else: \n",
    "    print(\"Cards Dealer Has:\", dealer_card) \n",
    "    print(\"Score Of The Dealer:\", dealer_score) \n",
    "    print(\"Cards Player Has:\", player_card) \n",
    "    print(\"Score Of The Player:\", player_score) \n",
    "    print(\"It's a tie.\")"
   ]
  },
  {
   "cell_type": "code",
   "execution_count": 24,
   "id": "05f2e304-b0a5-4cf2-a6cd-d24b62cb7f75",
   "metadata": {},
   "outputs": [],
   "source": [
    "##40.Write a program that generates the prime factors of a given number using trial division."
   ]
  },
  {
   "cell_type": "code",
   "execution_count": 10,
   "id": "5ec031f7-abe0-4179-bd98-2f4c6916f6bb",
   "metadata": {},
   "outputs": [
    {
     "data": {
      "text/plain": [
       "[3, 3, 5]"
      ]
     },
     "execution_count": 10,
     "metadata": {},
     "output_type": "execute_result"
    }
   ],
   "source": [
    "def trial_division(n):\n",
    "    a = []\n",
    "    f = 2  \n",
    "    while n > 1:\n",
    "        if n % f == 0:    \n",
    "            a.append(f)\n",
    "            n //= f\n",
    "        else:\n",
    "            f += 1\n",
    "    return a\n",
    "trial_division(45)"
   ]
  },
  {
   "cell_type": "code",
   "execution_count": null,
   "id": "3f682d33-5b7b-4cd3-9ef5-ea2da55cbd9f",
   "metadata": {},
   "outputs": [],
   "source": []
  },
  {
   "cell_type": "code",
   "execution_count": null,
   "id": "a0ff56df-f867-4e83-983c-388ad8f095fc",
   "metadata": {},
   "outputs": [],
   "source": []
  }
 ],
 "metadata": {
  "kernelspec": {
   "display_name": "Python 3 (ipykernel)",
   "language": "python",
   "name": "python3"
  },
  "language_info": {
   "codemirror_mode": {
    "name": "ipython",
    "version": 3
   },
   "file_extension": ".py",
   "mimetype": "text/x-python",
   "name": "python",
   "nbconvert_exporter": "python",
   "pygments_lexer": "ipython3",
   "version": "3.10.8"
  }
 },
 "nbformat": 4,
 "nbformat_minor": 5
}
